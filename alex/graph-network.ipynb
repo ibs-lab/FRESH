{
 "cells": [
  {
   "cell_type": "markdown",
   "metadata": {},
   "source": [
    "**Graph Network Analysis**"
   ]
  },
  {
   "cell_type": "markdown",
   "metadata": {},
   "source": [
    "**Get Packages**"
   ]
  },
  {
   "cell_type": "code",
   "execution_count": 17,
   "metadata": {},
   "outputs": [
    {
     "data": {
      "text/html": [
       "        <script type=\"text/javascript\">\n",
       "        window.PlotlyConfig = {MathJaxConfig: 'local'};\n",
       "        if (window.MathJax && window.MathJax.Hub && window.MathJax.Hub.Config) {window.MathJax.Hub.Config({SVG: {font: \"STIX-Web\"}});}\n",
       "        if (typeof require !== 'undefined') {\n",
       "        require.undef(\"plotly\");\n",
       "        requirejs.config({\n",
       "            paths: {\n",
       "                'plotly': ['https://cdn.plot.ly/plotly-2.12.1.min']\n",
       "            }\n",
       "        });\n",
       "        require(['plotly'], function(Plotly) {\n",
       "            window._Plotly = Plotly;\n",
       "        });\n",
       "        }\n",
       "        </script>\n",
       "        "
      ]
     },
     "metadata": {},
     "output_type": "display_data"
    }
   ],
   "source": [
    "# matplotlib ipynb widget\n",
    "%matplotlib widget\n",
    "\n",
    "import pandas as pd\n",
    "import numpy as np\n",
    "import plotly.graph_objects as go\n",
    "from plotly.offline import init_notebook_mode, iplot, plot\n",
    "import networkx as nx\n",
    "\n",
    "import seaborn as sns\n",
    "import matplotlib.colors as mc\n",
    "import matplotlib.pyplot as plt\n",
    "\n",
    "# Run this line if you are in a Jupyter Notebook environment\n",
    "init_notebook_mode(connected=True)\n",
    "\n",
    "# define paths for data and output\n",
    "paths = {\"base\": \"C://Users//avonl//OneDrive//Work//Research//projects//2023 - FRESH//code//FRESH//\", \n",
    "         \"alex\": \"alex//\", \n",
    "         \"data\": \"data//\", \n",
    "         \"tempfigs\": \"figs\",\n",
    "         \"finalfigs\": \"figures//\" \n",
    "        }"
   ]
  },
  {
   "cell_type": "markdown",
   "metadata": {},
   "source": [
    "**load CSV file and clean data**"
   ]
  },
  {
   "cell_type": "code",
   "execution_count": 18,
   "metadata": {},
   "outputs": [],
   "source": [
    "# loads csv to pandas dataframe\n",
    "df = pd.read_csv(paths[\"base\"]+paths[\"data\"]+\"FreshData.csv\", encoding='utf-16', delimiter='\\t')\n",
    "\n",
    "# unifies NaNs: Replace all \"NaN\" values in df with \"nan\"\n",
    "df = df.replace(np.nan, 'nan', regex=True)\n",
    "\n",
    "# specific for this analysis: replace all \"NaN\"s in df with \"Unknown\"\n",
    "df = df.replace('nan', 'Unknown', regex=True)"
   ]
  },
  {
   "cell_type": "markdown",
   "metadata": {},
   "source": [
    "**Select and Prepare Data for Signal Analysis**"
   ]
  },
  {
   "cell_type": "code",
   "execution_count": 19,
   "metadata": {},
   "outputs": [],
   "source": [
    "# selection of columns to keep for signal analysis\n",
    "columns_sig = ['Study', 'ID', 'Toolbox used', \\\n",
    "           'Quality/Pruning: Method','Motion Artifact Method', \\\n",
    "           'Resample/Downsample (Hz)','Filtering Coding', \\\n",
    "           'Removal of the Global Signals during Preprocessing', \\\n",
    "           'Non-GLM: Method', 'GLM: Method', 'GLM: HRF Regressor', \\\n",
    "           'GLM: Other Regressors', 'Block Averaging: Modifiers']\n",
    "df_siganalysis = df[columns_sig]\n",
    "\n",
    "# rename 'Non-GLM Method' to 'Approach'\n",
    "df_siganalysis = df_siganalysis.rename(columns={'Non-GLM: Method': 'Approach'})\n",
    "\n",
    "# remove lines that contain \"Not investigated\" in column \"Toolbox used\"\n",
    "df_siganalysis = df_siganalysis[~df_siganalysis['Toolbox used'].str.contains('Not investigated')]\n",
    "\n",
    "# Removes \"Custom: \" substring from the entries in column \"Toolbox used\" of df_analysis and keeps only the rest.\n",
    "df_siganalysis['Toolbox used'] = df_siganalysis['Toolbox used'].str.replace('Custom:', '')\n",
    "df_siganalysis['Toolbox used'] = df_siganalysis['Toolbox used'].str.replace('Custom: ', '')\n",
    "\n",
    "column_none = ['Quality/Pruning: Method', 'Motion Artifact Method', \\\n",
    "    'Resample/Downsample (Hz)', 'Filtering Coding']\n",
    "none_txt = ['No Pruning', 'No Artifact Removal', 'No Resampling', 'No Filtering']\n",
    "# rename entries in columns indicated in column_none that contain an \"Unknown\" to the corresponding entry in none_txt\n",
    "for i in range(len(column_none)):\n",
    "    df_siganalysis[column_none[i]] = df_siganalysis[column_none[i]].replace('Unknown', none_txt[i], regex=True)\n",
    "\n",
    "    \n",
    "# rename \"Other\" entries in column 'Quality/Pruning: Method' to 'Other Pruning Method'\n",
    "df_siganalysis['Quality/Pruning: Method'] = df_siganalysis['Quality/Pruning: Method'].replace('Other', 'Other Pruning Method', regex=True)\n",
    "# In \"Quality/Pruning: Method\" rename \"Manual Selection\" and \"Visual Inspection of Time Domain\" to \"Manual Pruning\"\n",
    "df_siganalysis['Quality/Pruning: Method'] = df_siganalysis['Quality/Pruning: Method'].replace('Manual Selection', 'Manual Pruning', regex=True)\n",
    "df_siganalysis['Quality/Pruning: Method'] = df_siganalysis['Quality/Pruning: Method'].replace('Visual Inspection of Time Domain', 'Manual Pruning', regex=True)\n",
    "\n",
    "# rename \"Other\" entries in column 'Motion Artifact Method' to 'Other Removal Method'\n",
    "df_siganalysis['Motion Artifact Method'] = df_siganalysis['Motion Artifact Method'].replace('Other', 'Other Removal Method', regex=True)\n",
    "# rename \"Rejection\" entries in column 'Motion Artifact Method' to 'Trial Rejection'\n",
    "df_siganalysis['Motion Artifact Method'] = df_siganalysis['Motion Artifact Method'].replace('Rejection', 'Trial Rejection', regex=True)\n",
    "\n",
    "# rename \"Unknown\"\" entries in column 'Removal of the Global Signals during Preprocessing' to 'No Removal''\n",
    "df_siganalysis['Removal of the Global Signals during Preprocessing'] = df_siganalysis['Removal of the Global Signals during Preprocessing'].replace('No', 'No Removal', regex=True)\n",
    "# rename \"No\" entries in column 'Removal of the Global Signals during Preprocessing' to 'No Removal''\n",
    "df_siganalysis['Removal of the Global Signals during Preprocessing'] = df_siganalysis['Removal of the Global Signals during Preprocessing'].replace('Unknown', 'No Removal', regex=True)\n",
    "# rename \"Other\" entries in column 'Removal of the Global Signals during Preprocessing' to 'Other Removal''\n",
    "df_siganalysis['Removal of the Global Signals during Preprocessing'] = df_siganalysis['Removal of the Global Signals during Preprocessing'].replace('Other', 'Other Method', regex=True)\n",
    "\n",
    "# rename \"Unknown\" entries in column 'GLM: Method' to 'Unknown Method'\n",
    "df_siganalysis['GLM: Method'] = df_siganalysis['GLM: Method'].replace('Unknown', 'Unknown Method', regex=True)\n",
    "# rename \"Default\" entries in column 'GLM: Method' to 'Default Method'\n",
    "df_siganalysis['GLM: Method'] = df_siganalysis['GLM: Method'].replace('Default', 'Default Method', regex=True)\n",
    "# replace any entry in column \"GLM: Method\" that contains the string \"AR-IRLS\" completely with only \"AR-IRLS\"\n",
    "df_siganalysis['GLM: Method'] = df_siganalysis['GLM: Method'].replace('AR-IRLS.*', 'AR-IRLS', regex=True)\n",
    "# rename \"Other\" entries in column 'GLM: Method' to 'Other Method'\n",
    "df_siganalysis['GLM: Method'] = df_siganalysis['GLM: Method'].replace('Other', 'Other Solver', regex=True)\n",
    "\n",
    "\n",
    "# rename \"Unknown\" entries in column 'GLM: HRF Regressor' to 'Unknown HRF Regressor'\n",
    "df_siganalysis['GLM: HRF Regressor'] = df_siganalysis['GLM: HRF Regressor'].replace('Unknown', 'Unknown HRF Regressor', regex=True)\n",
    "# rename \"Default\" entries in column 'GLM: HRF Regressor' to 'Default HRF Regressor'\n",
    "df_siganalysis['GLM: HRF Regressor'] = df_siganalysis['GLM: HRF Regressor'].replace('Default', 'Default HRF Regressor', regex=True)\n",
    "\n",
    "# rename \"Unknown\" entries and \"Other\" entries in column 'GLM: Other Regressors' to 'Unknown Other Regressors'\n",
    "df_siganalysis['GLM: Other Regressors'] = df_siganalysis['GLM: Other Regressors'].replace('Unknown', 'Unknown Additional Regressors', regex=True)\n",
    "df_siganalysis['GLM: Other Regressors'] = df_siganalysis['GLM: Other Regressors'].replace('Other', 'Unknown Additional Regressors', regex=True)\n",
    "\n",
    "\n",
    "# for all rows that contain \"Block Averaging\" or \"Other\" in column \"Approach\"... \n",
    "rw_idx = df_siganalysis.loc[df_siganalysis['Approach'].str.contains('Block Averaging')].index\n",
    "rw_idx = rw_idx.append(df_siganalysis.loc[df_siganalysis['Approach'].str.contains('Other')].index)\n",
    "\n",
    "\n",
    "# replace the the cell in column \"GLM: Method\" with the corresponding cell from \"Block Averaging: Modifiers\" for these rows\n",
    "df_siganalysis.loc[rw_idx, 'GLM: Method'] = df_siganalysis.loc[rw_idx, 'Block Averaging: Modifiers']\n",
    "# for these rows, replace \"Unknown\" with \"No Correction\"\n",
    "df_siganalysis.loc[rw_idx, 'GLM: Method'] = df_siganalysis.loc[rw_idx, 'GLM: Method'].replace('Unknown', 'No Correction', regex=True)\n",
    "\n",
    "# ...replace \"Unknown HRF Regressor\" in column \"GLM: HRF Regressor\" with an empty string\n",
    "df_siganalysis.loc[rw_idx, 'GLM: HRF Regressor'] = df_siganalysis.loc[rw_idx, 'GLM: HRF Regressor'].replace('Unknown HRF Regressor', '', regex=True)\n",
    "# ...replace \"Unknown Other Regressor\" in column \"GLM: Other Regressors\" with an empty string\n",
    "df_siganalysis.loc[rw_idx, 'GLM: Other Regressors'] = df_siganalysis.loc[rw_idx, 'GLM: Other Regressors'].replace('Unknown Additional Regressors', '', regex=True)\n",
    "\n",
    "# delete column \"Block Averaging: Modifiers\"\n",
    "df_siganalysis = df_siganalysis.drop(columns=['Block Averaging: Modifiers'])"
   ]
  },
  {
   "cell_type": "markdown",
   "metadata": {},
   "source": [
    "**Create Graph Network**"
   ]
  },
  {
   "cell_type": "code",
   "execution_count": 20,
   "metadata": {},
   "outputs": [
    {
     "data": {
      "application/vnd.jupyter.widget-view+json": {
       "model_id": "2a3a863805e44362a75e35f28c9a1f13",
       "version_major": 2,
       "version_minor": 0
      },
      "image/png": "[encoded data removed]",
      "text/html": [
       "\n",
       "            <div style=\"display: inline-block;\">\n",
       "                <div class=\"jupyter-widgets widget-label\" style=\"text-align: center;\">\n",
       "                    Figure\n",
       "                </div>\n",
       "                <img src='data:image/png;base64,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' width=640.0/>\n",
       "            </div>\n",
       "        "
      ],
      "text/plain": [
       "Canvas(toolbar=Toolbar(toolitems=[('Home', 'Reset original view', 'home', 'home'), ('Back', 'Back to previous …"
      ]
     },
     "metadata": {},
     "output_type": "display_data"
    }
   ],
   "source": []
  }
 ],
 "metadata": {
  "kernelspec": {
   "display_name": "base",
   "language": "python",
   "name": "python3"
  },
  "language_info": {
   "codemirror_mode": {
    "name": "ipython",
    "version": 3
   },
   "file_extension": ".py",
   "mimetype": "text/x-python",
   "name": "python",
   "nbconvert_exporter": "python",
   "pygments_lexer": "ipython3",
   "version": "3.9.13"
  }
 },
 "nbformat": 4,
 "nbformat_minor": 2
}
