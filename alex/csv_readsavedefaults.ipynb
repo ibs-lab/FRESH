{
 "cells": [
  {
   "cell_type": "markdown",
   "metadata": {},
   "source": [
    "**Find and mark default entires**\n",
    "\n",
    "\n",
    "Reads data csv file and finds all cells that have \"Default\" entries. Appends new columns and saves these entries to enable recovery after replacing the defaults with known values. "
   ]
  },
  {
   "cell_type": "code",
   "execution_count": 30,
   "metadata": {},
   "outputs": [
    {
     "data": {
      "text/html": [
       "        <script type=\"text/javascript\">\n",
       "        window.PlotlyConfig = {MathJaxConfig: 'local'};\n",
       "        if (window.MathJax && window.MathJax.Hub && window.MathJax.Hub.Config) {window.MathJax.Hub.Config({SVG: {font: \"STIX-Web\"}});}\n",
       "        if (typeof require !== 'undefined') {\n",
       "        require.undef(\"plotly\");\n",
       "        requirejs.config({\n",
       "            paths: {\n",
       "                'plotly': ['https://cdn.plot.ly/plotly-2.12.1.min']\n",
       "            }\n",
       "        });\n",
       "        require(['plotly'], function(Plotly) {\n",
       "            window._Plotly = Plotly;\n",
       "        });\n",
       "        }\n",
       "        </script>\n",
       "        "
      ]
     },
     "metadata": {},
     "output_type": "display_data"
    }
   ],
   "source": [
    "import pandas as pd\n",
    "import numpy as np\n",
    "import plotly.graph_objects as go\n",
    "from plotly.offline import init_notebook_mode, iplot, plot\n",
    "\n",
    "import seaborn as sns\n",
    "import matplotlib.colors as mc\n",
    "import matplotlib.pyplot as plt\n",
    "\n",
    "# Run this line if you are in a Jupyter Notebook environment\n",
    "init_notebook_mode(connected=True)\n",
    "\n",
    "# define paths for data and output\n",
    "paths = {\"base\": \"C://Users//avonl//OneDrive//Work//Research//projects//2023 - FRESH//code//FRESH//\",  \n",
    "         \"data\": \"data//\", \n",
    "        }\n",
    "\n",
    "# loads pandas dataframe\n",
    "df = pd.read_csv(paths[\"base\"]+paths[\"data\"]+\"FreshData.csv\", encoding='utf-16', delimiter='\\t')\n",
    "\n",
    "# create a list of Names that will be the column headers of a new dataframe\n",
    "df_keep_columnnames = ['Study', 'ID', 'Toolbox used', 'Data quality/pruning: Default', \n",
    "                          'Motion Artifact Correction: Default Parameters?',\n",
    "                          'Did you use Default Parameters for your Filters?', \n",
    "                          'GLM: Method', 'GLM: HRF Regressor',\n",
    "                          'Did you use Default Parameters for AR model order?']\n",
    "\n",
    "# create a new dataframe which is a copy of df\n",
    "# but only contains the columns that are indicated by df_keep_columnnames\n",
    "df_default = df[df_keep_columnnames].copy()\n",
    "\n",
    "# rename 'Toolbox used' to 'Investigated'\n",
    "df_default = df_default.rename(columns={'Toolbox used': 'Investigated'})\n",
    "# set all rows in column 'Investigated' to 'FALSE' if they state 'Not investigated', otherwise to 'TRUE'\n",
    "df_default['Investigated'] = np.where(df_default['Investigated'] == 'Not investigated', 'FALSE', 'TRUE')\n",
    "\n",
    "# for the columns 'GLM: Method' and 'GLM: HRF Regressor' rename all cells that contain 'Default' to 'TRUE' and all others to 'FALSE'\n",
    "df_default['GLM: Method'] = np.where(df_default['GLM: Method'] == 'Default', 'TRUE', 'FALSE')\n",
    "df_default['GLM: HRF Regressor'] = np.where(df_default['GLM: HRF Regressor'] == 'Default', 'TRUE', 'FALSE')\n",
    "\n",
    "# in all columns replace all cells that contain 'checked' to 'TRUE'\n",
    "df_default = df_default.replace('checked', 'TRUE', regex=True)\n",
    "# in all columns replace all cells that contain a nan to 'FALSE'\n",
    "df_default = df_default.replace(np.nan, 'FALSE', regex=True)\n",
    "\n",
    "# all rows that contain 'FALSE' in column 'Investigated' are set to nan in all other columns except 'Study', 'ID' and 'Investigated'\n",
    "df_default.loc[df_default['Investigated'] == 'FALSE', df_default.columns.difference(['Study', 'ID', 'Investigated'])] = np.nan\n",
    "\n",
    "column_names = ['Study', 'ID', 'Investigated', 'Quality/Pruning Parameters', \n",
    "                'Motion Artifact Correction Parameters', 'Filter Parameters', \n",
    "                'GLM Method', 'GLM HRF Regressor', 'AR Model Order']\n",
    "# rename the column names in df_default to the names given in column_names\n",
    "df_default.columns = column_names\n",
    "\n",
    "# save dataframe as .csv with encoding='utf-16', delimiter='\\t'\n",
    "df_default.to_csv(paths[\"base\"]+paths[\"data\"]+\"FreshData_defaults.csv\", encoding='utf-16', sep='\\t')\n",
    "\n",
    "\n"
   ]
  }
 ],
 "metadata": {
  "kernelspec": {
   "display_name": "base",
   "language": "python",
   "name": "python3"
  },
  "language_info": {
   "codemirror_mode": {
    "name": "ipython",
    "version": 3
   },
   "file_extension": ".py",
   "mimetype": "text/x-python",
   "name": "python",
   "nbconvert_exporter": "python",
   "pygments_lexer": "ipython3",
   "version": "3.9.13"
  }
 },
 "nbformat": 4,
 "nbformat_minor": 2
}
