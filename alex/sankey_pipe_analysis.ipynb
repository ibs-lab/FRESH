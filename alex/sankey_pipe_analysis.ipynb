{
 "cells": [
  {
   "attachments": {},
   "cell_type": "markdown",
   "metadata": {},
   "source": [
    "**Get Packages**"
   ]
  },
  {
   "cell_type": "code",
   "execution_count": 35,
   "metadata": {},
   "outputs": [
    {
     "data": {
      "text/html": [
       "        <script type=\"text/javascript\">\n",
       "        window.PlotlyConfig = {MathJaxConfig: 'local'};\n",
       "        if (window.MathJax && window.MathJax.Hub && window.MathJax.Hub.Config) {window.MathJax.Hub.Config({SVG: {font: \"STIX-Web\"}});}\n",
       "        if (typeof require !== 'undefined') {\n",
       "        require.undef(\"plotly\");\n",
       "        requirejs.config({\n",
       "            paths: {\n",
       "                'plotly': ['https://cdn.plot.ly/plotly-2.29.1.min']\n",
       "            }\n",
       "        });\n",
       "        require(['plotly'], function(Plotly) {\n",
       "            window._Plotly = Plotly;\n",
       "        });\n",
       "        }\n",
       "        </script>\n",
       "        "
      ]
     },
     "metadata": {},
     "output_type": "display_data"
    }
   ],
   "source": [
    "import pandas as pd\n",
    "import numpy as np\n",
    "import plotly.graph_objects as go\n",
    "from plotly.offline import init_notebook_mode, iplot, plot\n",
    "import colormaps as cmaps\n",
    "import seaborn as sns\n",
    "import matplotlib.colors as mc\n",
    "import matplotlib.pyplot as plt\n",
    "\n",
    "# include matplotlib widget\n",
    "%matplotlib widget\n",
    "\n",
    "# Run this line if you are in a Jupyter Notebook environment\n",
    "init_notebook_mode(connected=True)\n",
    "\n",
    "# define paths for data and output\n",
    "paths = {\"base\": \"C://Users//avonl//OneDrive//Work//Research//projects//2023 - FRESH//code//FRESH//\", \n",
    "         \"alex\": \"alex//\", \n",
    "         \"data\": \"data//\", \n",
    "         \"tempfigs\": \"figs\",\n",
    "         \"finalfigs\": \"figures//\" \n",
    "        }\n",
    "\n",
    "# set colormap name\n",
    "colormap_name = \"tofino\"\n",
    "# get color map\n",
    "cmap = getattr(cmaps, colormap_name)"
   ]
  },
  {
   "attachments": {},
   "cell_type": "markdown",
   "metadata": {},
   "source": [
    "**load CSV file and clean data**"
   ]
  },
  {
   "cell_type": "code",
   "execution_count": 36,
   "metadata": {},
   "outputs": [],
   "source": [
    "# loads csv to pandas dataframe\n",
    "df = pd.read_csv(paths[\"base\"]+paths[\"data\"]+\"FreshData.csv\", encoding='utf-16', delimiter='\\t')\n",
    "\n",
    "# unifies NaNs: Replace all \"NaN\" values in df with \"nan\"\n",
    "df = df.replace(np.nan, 'nan', regex=True)\n",
    "\n",
    "# specific for this analysis: replace all \"NaN\"s in df with \"Unknown\"\n",
    "df = df.replace('nan', 'Unknown', regex=True)"
   ]
  },
  {
   "attachments": {},
   "cell_type": "markdown",
   "metadata": {},
   "source": [
    "**Select and Prepare Data for Signal Analysis**"
   ]
  },
  {
   "cell_type": "code",
   "execution_count": 37,
   "metadata": {},
   "outputs": [],
   "source": [
    "# selection of columns to keep for signal analysis\n",
    "columns_sig = ['Study', 'ID', 'Toolbox used', \\\n",
    "           'Quality/Pruning: Method','Motion Artifact Method', \\\n",
    "           'Resample/Downsample (Hz)','Filtering Coding', \\\n",
    "           'Removal of the Global Signals during Preprocessing', \\\n",
    "           'Non-GLM: Method', 'GLM: Method', 'GLM: HRF Regressor', \\\n",
    "           'GLM: Other Regressors', 'Block Averaging: Modifiers']\n",
    "df_siganalysis = df[columns_sig]\n",
    "\n",
    "# rename 'Non-GLM Method' to 'Approach'\n",
    "df_siganalysis = df_siganalysis.rename(columns={'Non-GLM: Method': 'Approach'})\n",
    "\n",
    "# remove lines that contain \"Not investigated\" in column \"Toolbox used\"\n",
    "df_siganalysis = df_siganalysis[~df_siganalysis['Toolbox used'].str.contains('Not investigated')]\n",
    "\n",
    "# Removes \"Custom: \" substring from the entries in column \"Toolbox used\" of df_analysis and keeps only the rest.\n",
    "df_siganalysis['Toolbox used'] = df_siganalysis['Toolbox used'].str.replace('Custom:', '')\n",
    "df_siganalysis['Toolbox used'] = df_siganalysis['Toolbox used'].str.replace('Custom: ', '')\n",
    "\n",
    "column_none = ['Quality/Pruning: Method', 'Motion Artifact Method', \\\n",
    "    'Resample/Downsample (Hz)', 'Filtering Coding']\n",
    "none_txt = ['No Pruning', 'No Artifact Removal', 'No Resampling', 'No Filtering']\n",
    "# rename entries in columns indicated in column_none that contain an \"Unknown\" to the corresponding entry in none_txt\n",
    "for i in range(len(column_none)):\n",
    "    df_siganalysis[column_none[i]] = df_siganalysis[column_none[i]].replace('Unknown', none_txt[i], regex=True)\n",
    "\n",
    "    \n",
    "# rename \"Other\" entries in column 'Quality/Pruning: Method' to 'Other Pruning Method'\n",
    "df_siganalysis['Quality/Pruning: Method'] = df_siganalysis['Quality/Pruning: Method'].replace('Other', 'Other Pruning Method', regex=True)\n",
    "# In \"Quality/Pruning: Method\" rename \"Manual Selection\" and \"Visual Inspection of Time Domain\" to \"Manual Pruning\"\n",
    "df_siganalysis['Quality/Pruning: Method'] = df_siganalysis['Quality/Pruning: Method'].replace('Manual Selection', 'Manual Pruning', regex=True)\n",
    "df_siganalysis['Quality/Pruning: Method'] = df_siganalysis['Quality/Pruning: Method'].replace('Visual Inspection of Time Domain', 'Manual Pruning', regex=True)\n",
    "\n",
    "# rename \"Other\" entries in column 'Motion Artifact Method' to 'Other Removal Method'\n",
    "df_siganalysis['Motion Artifact Method'] = df_siganalysis['Motion Artifact Method'].replace('Other', 'Other Removal Method', regex=True)\n",
    "# rename \"Rejection\" entries in column 'Motion Artifact Method' to 'Trial Rejection'\n",
    "df_siganalysis['Motion Artifact Method'] = df_siganalysis['Motion Artifact Method'].replace('Rejection', 'Trial Rejection', regex=True)\n",
    "\n",
    "# rename \"Unknown\"\" entries in column 'Removal of the Global Signals during Preprocessing' to 'No Removal''\n",
    "df_siganalysis['Removal of the Global Signals during Preprocessing'] = df_siganalysis['Removal of the Global Signals during Preprocessing'].replace('No', 'No Removal', regex=True)\n",
    "# rename \"No\" entries in column 'Removal of the Global Signals during Preprocessing' to 'No Removal''\n",
    "df_siganalysis['Removal of the Global Signals during Preprocessing'] = df_siganalysis['Removal of the Global Signals during Preprocessing'].replace('Unknown', 'No Removal', regex=True)\n",
    "# rename \"Other\" entries in column 'Removal of the Global Signals during Preprocessing' to 'Other Removal''\n",
    "df_siganalysis['Removal of the Global Signals during Preprocessing'] = df_siganalysis['Removal of the Global Signals during Preprocessing'].replace('Other', 'Other Method', regex=True)\n",
    "\n",
    "# rename \"Unknown\" entries in column 'GLM: Method' to 'Unknown Method'\n",
    "df_siganalysis['GLM: Method'] = df_siganalysis['GLM: Method'].replace('Unknown', 'Unknown Method', regex=True)\n",
    "# rename \"Default\" entries in column 'GLM: Method' to 'Default Method'\n",
    "df_siganalysis['GLM: Method'] = df_siganalysis['GLM: Method'].replace('Default', 'Default Method', regex=True)\n",
    "# replace any entry in column \"GLM: Method\" that contains the string \"AR-IRLS\" completely with only \"AR-IRLS\"\n",
    "df_siganalysis['GLM: Method'] = df_siganalysis['GLM: Method'].replace('AR-IRLS.*', 'AR-IRLS', regex=True)\n",
    "# rename \"Other\" entries in column 'GLM: Method' to 'Other Method'\n",
    "df_siganalysis['GLM: Method'] = df_siganalysis['GLM: Method'].replace('Other', 'Other Solver', regex=True)\n",
    "\n",
    "\n",
    "# rename \"Unknown\" entries in column 'GLM: HRF Regressor' to 'Unknown HRF Regressor'\n",
    "df_siganalysis['GLM: HRF Regressor'] = df_siganalysis['GLM: HRF Regressor'].replace('Unknown', 'Unknown HRF Regressor', regex=True)\n",
    "# rename \"Default\" entries in column 'GLM: HRF Regressor' to 'Default HRF Regressor'\n",
    "df_siganalysis['GLM: HRF Regressor'] = df_siganalysis['GLM: HRF Regressor'].replace('Default', 'Default HRF Regressor', regex=True)\n",
    "\n",
    "# rename \"Unknown\" entries and \"Other\" entries in column 'GLM: Other Regressors' to 'Unknown Other Regressors'\n",
    "df_siganalysis['GLM: Other Regressors'] = df_siganalysis['GLM: Other Regressors'].replace('Unknown', 'Unknown Additional Regressors', regex=True)\n",
    "df_siganalysis['GLM: Other Regressors'] = df_siganalysis['GLM: Other Regressors'].replace('Other', 'Unknown Additional Regressors', regex=True)\n",
    "\n",
    "\n",
    "# for all rows that contain \"Block Averaging\" or \"Other\" in column \"Approach\"... \n",
    "rw_idx = df_siganalysis.loc[df_siganalysis['Approach'].str.contains('Block Averaging')].index\n",
    "rw_idx = rw_idx.append(df_siganalysis.loc[df_siganalysis['Approach'].str.contains('Other')].index)\n",
    "#...\n",
    "#...\n",
    "# replace the the cell in column \"GLM: Method\" with the corresponding cell from \"Block Averaging: Modifiers\" for these rows\n",
    "df_siganalysis.loc[rw_idx, 'GLM: Method'] = df_siganalysis.loc[rw_idx, 'Block Averaging: Modifiers']\n",
    "# for these rows, replace \"Unknown\" with \"No Correction\"\n",
    "df_siganalysis.loc[rw_idx, 'GLM: Method'] = df_siganalysis.loc[rw_idx, 'GLM: Method'].replace('Unknown', 'No Correction', regex=True)\n",
    "\n",
    "# ...replace \"Unknown HRF Regressor\" in column \"GLM: HRF Regressor\" with an empty string\n",
    "df_siganalysis.loc[rw_idx, 'GLM: HRF Regressor'] = df_siganalysis.loc[rw_idx, 'GLM: HRF Regressor'].replace('Unknown HRF Regressor', '', regex=True)\n",
    "# ...replace \"Unknown Other Regressor\" in column \"GLM: Other Regressors\" with an empty string\n",
    "df_siganalysis.loc[rw_idx, 'GLM: Other Regressors'] = df_siganalysis.loc[rw_idx, 'GLM: Other Regressors'].replace('Unknown Additional Regressors', '', regex=True)\n",
    "\n",
    "# delete column \"Block Averaging: Modifiers\"\n",
    "df_siganalysis = df_siganalysis.drop(columns=['Block Averaging: Modifiers'])"
   ]
  },
  {
   "attachments": {},
   "cell_type": "markdown",
   "metadata": {},
   "source": [
    "**Plot Toolbox Statistics**"
   ]
  },
  {
   "cell_type": "code",
   "execution_count": 38,
   "metadata": {},
   "outputs": [
    {
     "data": {
      "application/vnd.plotly.v1+json": {
       "config": {
        "plotlyServerURL": "https://plot.ly"
       },
       "data": [
        {
         "labels": [
          "HOMER3",
          "Matlab",
          "AnalyzIR",
          "MNE",
          "QT NIRS",
          "Other",
          "Python",
          "HOMER2",
          "R",
          "Satori",
          "AtlasViewer",
          "NIRS-SPM",
          "NIRS Toolbox",
          "NeuroDOT",
          "NIRFAST(ER)",
          "Nilearn",
          "OpenPoTATo"
         ],
         "marker": {
          "colors": [
           "#ded9ff",
           "#b6bced",
           "#8b9fdb",
           "#617fc3",
           "#40609d",
           "#2d4574",
           "#1e2e4d",
           "#131b2a",
           "#0d1514",
           "#122314",
           "#1c3b1f",
           "#28562c",
           "#37733c",
           "#509350",
           "#7cb369",
           "#accd83",
           "#dbe69b"
          ]
         },
         "text": [
          "HOMER3<br>42.86%",
          "Matlab<br>25.71%",
          "AnalyzIR<br>25.71%",
          "MNE<br>18.57%",
          "QT NIRS<br>15.71%",
          "Other<br>11.43%",
          "Python<br>8.57%",
          "HOMER2<br>8.57%",
          "R<br>5.71%",
          "Satori<br>5.71%",
          "AtlasViewer<br>5.71%",
          "NIRS-SPM<br>4.29%",
          "NIRS Toolbox<br>4.29%",
          "NeuroDOT<br>2.86%",
          "NIRFAST(ER)<br>2.86%",
          "Nilearn<br>2.86%",
          "OpenPoTATo<br>1.43%"
         ],
         "textfont": {
          "size": 16
         },
         "textinfo": "text",
         "textposition": "auto",
         "type": "pie",
         "values": [
          42.857142857142854,
          25.71428571428571,
          25.71428571428571,
          18.571428571428573,
          15.714285714285714,
          11.428571428571429,
          8.571428571428571,
          8.571428571428571,
          5.714285714285714,
          5.714285714285714,
          5.714285714285714,
          4.285714285714286,
          4.285714285714286,
          2.857142857142857,
          2.857142857142857,
          2.857142857142857,
          1.4285714285714286
         ]
        }
       ],
       "layout": {
        "showlegend": false,
        "template": {
         "data": {
          "bar": [
           {
            "error_x": {
             "color": "#2a3f5f"
            },
            "error_y": {
             "color": "#2a3f5f"
            },
            "marker": {
             "line": {
              "color": "#E5ECF6",
              "width": 0.5
             },
             "pattern": {
              "fillmode": "overlay",
              "size": 10,
              "solidity": 0.2
             }
            },
            "type": "bar"
           }
          ],
          "barpolar": [
           {
            "marker": {
             "line": {
              "color": "#E5ECF6",
              "width": 0.5
             },
             "pattern": {
              "fillmode": "overlay",
              "size": 10,
              "solidity": 0.2
             }
            },
            "type": "barpolar"
           }
          ],
          "carpet": [
           {
            "aaxis": {
             "endlinecolor": "#2a3f5f",
             "gridcolor": "white",
             "linecolor": "white",
             "minorgridcolor": "white",
             "startlinecolor": "#2a3f5f"
            },
            "baxis": {
             "endlinecolor": "#2a3f5f",
             "gridcolor": "white",
             "linecolor": "white",
             "minorgridcolor": "white",
             "startlinecolor": "#2a3f5f"
            },
            "type": "carpet"
           }
          ],
          "choropleth": [
           {
            "colorbar": {
             "outlinewidth": 0,
             "ticks": ""
            },
            "type": "choropleth"
           }
          ],
          "contour": [
           {
            "colorbar": {
             "outlinewidth": 0,
             "ticks": ""
            },
            "colorscale": [
             [
              0,
              "#0d0887"
             ],
             [
              0.1111111111111111,
              "#46039f"
             ],
             [
              0.2222222222222222,
              "#7201a8"
             ],
             [
              0.3333333333333333,
              "#9c179e"
             ],
             [
              0.4444444444444444,
              "#bd3786"
             ],
             [
              0.5555555555555556,
              "#d8576b"
             ],
             [
              0.6666666666666666,
              "#ed7953"
             ],
             [
              0.7777777777777778,
              "#fb9f3a"
             ],
             [
              0.8888888888888888,
              "#fdca26"
             ],
             [
              1,
              "#f0f921"
             ]
            ],
            "type": "contour"
           }
          ],
          "contourcarpet": [
           {
            "colorbar": {
             "outlinewidth": 0,
             "ticks": ""
            },
            "type": "contourcarpet"
           }
          ],
          "heatmap": [
           {
            "colorbar": {
             "outlinewidth": 0,
             "ticks": ""
            },
            "colorscale": [
             [
              0,
              "#0d0887"
             ],
             [
              0.1111111111111111,
              "#46039f"
             ],
             [
              0.2222222222222222,
              "#7201a8"
             ],
             [
              0.3333333333333333,
              "#9c179e"
             ],
             [
              0.4444444444444444,
              "#bd3786"
             ],
             [
              0.5555555555555556,
              "#d8576b"
             ],
             [
              0.6666666666666666,
              "#ed7953"
             ],
             [
              0.7777777777777778,
              "#fb9f3a"
             ],
             [
              0.8888888888888888,
              "#fdca26"
             ],
             [
              1,
              "#f0f921"
             ]
            ],
            "type": "heatmap"
           }
          ],
          "heatmapgl": [
           {
            "colorbar": {
             "outlinewidth": 0,
             "ticks": ""
            },
            "colorscale": [
             [
              0,
              "#0d0887"
             ],
             [
              0.1111111111111111,
              "#46039f"
             ],
             [
              0.2222222222222222,
              "#7201a8"
             ],
             [
              0.3333333333333333,
              "#9c179e"
             ],
             [
              0.4444444444444444,
              "#bd3786"
             ],
             [
              0.5555555555555556,
              "#d8576b"
             ],
             [
              0.6666666666666666,
              "#ed7953"
             ],
             [
              0.7777777777777778,
              "#fb9f3a"
             ],
             [
              0.8888888888888888,
              "#fdca26"
             ],
             [
              1,
              "#f0f921"
             ]
            ],
            "type": "heatmapgl"
           }
          ],
          "histogram": [
           {
            "marker": {
             "pattern": {
              "fillmode": "overlay",
              "size": 10,
              "solidity": 0.2
             }
            },
            "type": "histogram"
           }
          ],
          "histogram2d": [
           {
            "colorbar": {
             "outlinewidth": 0,
             "ticks": ""
            },
            "colorscale": [
             [
              0,
              "#0d0887"
             ],
             [
              0.1111111111111111,
              "#46039f"
             ],
             [
              0.2222222222222222,
              "#7201a8"
             ],
             [
              0.3333333333333333,
              "#9c179e"
             ],
             [
              0.4444444444444444,
              "#bd3786"
             ],
             [
              0.5555555555555556,
              "#d8576b"
             ],
             [
              0.6666666666666666,
              "#ed7953"
             ],
             [
              0.7777777777777778,
              "#fb9f3a"
             ],
             [
              0.8888888888888888,
              "#fdca26"
             ],
             [
              1,
              "#f0f921"
             ]
            ],
            "type": "histogram2d"
           }
          ],
          "histogram2dcontour": [
           {
            "colorbar": {
             "outlinewidth": 0,
             "ticks": ""
            },
            "colorscale": [
             [
              0,
              "#0d0887"
             ],
             [
              0.1111111111111111,
              "#46039f"
             ],
             [
              0.2222222222222222,
              "#7201a8"
             ],
             [
              0.3333333333333333,
              "#9c179e"
             ],
             [
              0.4444444444444444,
              "#bd3786"
             ],
             [
              0.5555555555555556,
              "#d8576b"
             ],
             [
              0.6666666666666666,
              "#ed7953"
             ],
             [
              0.7777777777777778,
              "#fb9f3a"
             ],
             [
              0.8888888888888888,
              "#fdca26"
             ],
             [
              1,
              "#f0f921"
             ]
            ],
            "type": "histogram2dcontour"
           }
          ],
          "mesh3d": [
           {
            "colorbar": {
             "outlinewidth": 0,
             "ticks": ""
            },
            "type": "mesh3d"
           }
          ],
          "parcoords": [
           {
            "line": {
             "colorbar": {
              "outlinewidth": 0,
              "ticks": ""
             }
            },
            "type": "parcoords"
           }
          ],
          "pie": [
           {
            "automargin": true,
            "type": "pie"
           }
          ],
          "scatter": [
           {
            "fillpattern": {
             "fillmode": "overlay",
             "size": 10,
             "solidity": 0.2
            },
            "type": "scatter"
           }
          ],
          "scatter3d": [
           {
            "line": {
             "colorbar": {
              "outlinewidth": 0,
              "ticks": ""
             }
            },
            "marker": {
             "colorbar": {
              "outlinewidth": 0,
              "ticks": ""
             }
            },
            "type": "scatter3d"
           }
          ],
          "scattercarpet": [
           {
            "marker": {
             "colorbar": {
              "outlinewidth": 0,
              "ticks": ""
             }
            },
            "type": "scattercarpet"
           }
          ],
          "scattergeo": [
           {
            "marker": {
             "colorbar": {
              "outlinewidth": 0,
              "ticks": ""
             }
            },
            "type": "scattergeo"
           }
          ],
          "scattergl": [
           {
            "marker": {
             "colorbar": {
              "outlinewidth": 0,
              "ticks": ""
             }
            },
            "type": "scattergl"
           }
          ],
          "scattermapbox": [
           {
            "marker": {
             "colorbar": {
              "outlinewidth": 0,
              "ticks": ""
             }
            },
            "type": "scattermapbox"
           }
          ],
          "scatterpolar": [
           {
            "marker": {
             "colorbar": {
              "outlinewidth": 0,
              "ticks": ""
             }
            },
            "type": "scatterpolar"
           }
          ],
          "scatterpolargl": [
           {
            "marker": {
             "colorbar": {
              "outlinewidth": 0,
              "ticks": ""
             }
            },
            "type": "scatterpolargl"
           }
          ],
          "scatterternary": [
           {
            "marker": {
             "colorbar": {
              "outlinewidth": 0,
              "ticks": ""
             }
            },
            "type": "scatterternary"
           }
          ],
          "surface": [
           {
            "colorbar": {
             "outlinewidth": 0,
             "ticks": ""
            },
            "colorscale": [
             [
              0,
              "#0d0887"
             ],
             [
              0.1111111111111111,
              "#46039f"
             ],
             [
              0.2222222222222222,
              "#7201a8"
             ],
             [
              0.3333333333333333,
              "#9c179e"
             ],
             [
              0.4444444444444444,
              "#bd3786"
             ],
             [
              0.5555555555555556,
              "#d8576b"
             ],
             [
              0.6666666666666666,
              "#ed7953"
             ],
             [
              0.7777777777777778,
              "#fb9f3a"
             ],
             [
              0.8888888888888888,
              "#fdca26"
             ],
             [
              1,
              "#f0f921"
             ]
            ],
            "type": "surface"
           }
          ],
          "table": [
           {
            "cells": {
             "fill": {
              "color": "#EBF0F8"
             },
             "line": {
              "color": "white"
             }
            },
            "header": {
             "fill": {
              "color": "#C8D4E3"
             },
             "line": {
              "color": "white"
             }
            },
            "type": "table"
           }
          ]
         },
         "layout": {
          "annotationdefaults": {
           "arrowcolor": "#2a3f5f",
           "arrowhead": 0,
           "arrowwidth": 1
          },
          "autotypenumbers": "strict",
          "coloraxis": {
           "colorbar": {
            "outlinewidth": 0,
            "ticks": ""
           }
          },
          "colorscale": {
           "diverging": [
            [
             0,
             "#8e0152"
            ],
            [
             0.1,
             "#c51b7d"
            ],
            [
             0.2,
             "#de77ae"
            ],
            [
             0.3,
             "#f1b6da"
            ],
            [
             0.4,
             "#fde0ef"
            ],
            [
             0.5,
             "#f7f7f7"
            ],
            [
             0.6,
             "#e6f5d0"
            ],
            [
             0.7,
             "#b8e186"
            ],
            [
             0.8,
             "#7fbc41"
            ],
            [
             0.9,
             "#4d9221"
            ],
            [
             1,
             "#276419"
            ]
           ],
           "sequential": [
            [
             0,
             "#0d0887"
            ],
            [
             0.1111111111111111,
             "#46039f"
            ],
            [
             0.2222222222222222,
             "#7201a8"
            ],
            [
             0.3333333333333333,
             "#9c179e"
            ],
            [
             0.4444444444444444,
             "#bd3786"
            ],
            [
             0.5555555555555556,
             "#d8576b"
            ],
            [
             0.6666666666666666,
             "#ed7953"
            ],
            [
             0.7777777777777778,
             "#fb9f3a"
            ],
            [
             0.8888888888888888,
             "#fdca26"
            ],
            [
             1,
             "#f0f921"
            ]
           ],
           "sequentialminus": [
            [
             0,
             "#0d0887"
            ],
            [
             0.1111111111111111,
             "#46039f"
            ],
            [
             0.2222222222222222,
             "#7201a8"
            ],
            [
             0.3333333333333333,
             "#9c179e"
            ],
            [
             0.4444444444444444,
             "#bd3786"
            ],
            [
             0.5555555555555556,
             "#d8576b"
            ],
            [
             0.6666666666666666,
             "#ed7953"
            ],
            [
             0.7777777777777778,
             "#fb9f3a"
            ],
            [
             0.8888888888888888,
             "#fdca26"
            ],
            [
             1,
             "#f0f921"
            ]
           ]
          },
          "colorway": [
           "#636efa",
           "#EF553B",
           "#00cc96",
           "#ab63fa",
           "#FFA15A",
           "#19d3f3",
           "#FF6692",
           "#B6E880",
           "#FF97FF",
           "#FECB52"
          ],
          "font": {
           "color": "#2a3f5f"
          },
          "geo": {
           "bgcolor": "white",
           "lakecolor": "white",
           "landcolor": "#E5ECF6",
           "showlakes": true,
           "showland": true,
           "subunitcolor": "white"
          },
          "hoverlabel": {
           "align": "left"
          },
          "hovermode": "closest",
          "mapbox": {
           "style": "light"
          },
          "paper_bgcolor": "white",
          "plot_bgcolor": "#E5ECF6",
          "polar": {
           "angularaxis": {
            "gridcolor": "white",
            "linecolor": "white",
            "ticks": ""
           },
           "bgcolor": "#E5ECF6",
           "radialaxis": {
            "gridcolor": "white",
            "linecolor": "white",
            "ticks": ""
           }
          },
          "scene": {
           "xaxis": {
            "backgroundcolor": "#E5ECF6",
            "gridcolor": "white",
            "gridwidth": 2,
            "linecolor": "white",
            "showbackground": true,
            "ticks": "",
            "zerolinecolor": "white"
           },
           "yaxis": {
            "backgroundcolor": "#E5ECF6",
            "gridcolor": "white",
            "gridwidth": 2,
            "linecolor": "white",
            "showbackground": true,
            "ticks": "",
            "zerolinecolor": "white"
           },
           "zaxis": {
            "backgroundcolor": "#E5ECF6",
            "gridcolor": "white",
            "gridwidth": 2,
            "linecolor": "white",
            "showbackground": true,
            "ticks": "",
            "zerolinecolor": "white"
           }
          },
          "shapedefaults": {
           "line": {
            "color": "#2a3f5f"
           }
          },
          "ternary": {
           "aaxis": {
            "gridcolor": "white",
            "linecolor": "white",
            "ticks": ""
           },
           "baxis": {
            "gridcolor": "white",
            "linecolor": "white",
            "ticks": ""
           },
           "bgcolor": "#E5ECF6",
           "caxis": {
            "gridcolor": "white",
            "linecolor": "white",
            "ticks": ""
           }
          },
          "title": {
           "x": 0.05
          },
          "xaxis": {
           "automargin": true,
           "gridcolor": "white",
           "linecolor": "white",
           "ticks": "",
           "title": {
            "standoff": 15
           },
           "zerolinecolor": "white",
           "zerolinewidth": 2
          },
          "yaxis": {
           "automargin": true,
           "gridcolor": "white",
           "linecolor": "white",
           "ticks": "",
           "title": {
            "standoff": 15
           },
           "zerolinecolor": "white",
           "zerolinewidth": 2
          }
         }
        },
        "title": {
         "text": "Use of Tools and Toolboxes for Analysis"
        }
       }
      },
      "text/html": [
       "<div>                            <div id=\"26691535-9423-4c09-aced-3a9254d19e56\" class=\"plotly-graph-div\" style=\"height:525px; width:100%;\"></div>            <script type=\"text/javascript\">                require([\"plotly\"], function(Plotly) {                    window.PLOTLYENV=window.PLOTLYENV || {};                                    if (document.getElementById(\"26691535-9423-4c09-aced-3a9254d19e56\")) {                    Plotly.newPlot(                        \"26691535-9423-4c09-aced-3a9254d19e56\",                        [{\"labels\":[\"HOMER3\",\"Matlab\",\"AnalyzIR\",\"MNE\",\"QT NIRS\",\"Other\",\"Python\",\"HOMER2\",\"R\",\"Satori\",\"AtlasViewer\",\"NIRS-SPM\",\"NIRS Toolbox\",\"NeuroDOT\",\"NIRFAST(ER)\",\"Nilearn\",\"OpenPoTATo\"],\"marker\":{\"colors\":[\"#ded9ff\",\"#b6bced\",\"#8b9fdb\",\"#617fc3\",\"#40609d\",\"#2d4574\",\"#1e2e4d\",\"#131b2a\",\"#0d1514\",\"#122314\",\"#1c3b1f\",\"#28562c\",\"#37733c\",\"#509350\",\"#7cb369\",\"#accd83\",\"#dbe69b\"]},\"text\":[\"HOMER3\\u003cbr\\u003e42.86%\",\"Matlab\\u003cbr\\u003e25.71%\",\"AnalyzIR\\u003cbr\\u003e25.71%\",\"MNE\\u003cbr\\u003e18.57%\",\"QT NIRS\\u003cbr\\u003e15.71%\",\"Other\\u003cbr\\u003e11.43%\",\"Python\\u003cbr\\u003e8.57%\",\"HOMER2\\u003cbr\\u003e8.57%\",\"R\\u003cbr\\u003e5.71%\",\"Satori\\u003cbr\\u003e5.71%\",\"AtlasViewer\\u003cbr\\u003e5.71%\",\"NIRS-SPM\\u003cbr\\u003e4.29%\",\"NIRS Toolbox\\u003cbr\\u003e4.29%\",\"NeuroDOT\\u003cbr\\u003e2.86%\",\"NIRFAST(ER)\\u003cbr\\u003e2.86%\",\"Nilearn\\u003cbr\\u003e2.86%\",\"OpenPoTATo\\u003cbr\\u003e1.43%\"],\"textfont\":{\"size\":16},\"textinfo\":\"text\",\"textposition\":\"auto\",\"values\":[42.857142857142854,25.71428571428571,25.71428571428571,18.571428571428573,15.714285714285714,11.428571428571429,8.571428571428571,8.571428571428571,5.714285714285714,5.714285714285714,5.714285714285714,4.285714285714286,4.285714285714286,2.857142857142857,2.857142857142857,2.857142857142857,1.4285714285714286],\"type\":\"pie\"}],                        {\"template\":{\"data\":{\"histogram2dcontour\":[{\"type\":\"histogram2dcontour\",\"colorbar\":{\"outlinewidth\":0,\"ticks\":\"\"},\"colorscale\":[[0.0,\"#0d0887\"],[0.1111111111111111,\"#46039f\"],[0.2222222222222222,\"#7201a8\"],[0.3333333333333333,\"#9c179e\"],[0.4444444444444444,\"#bd3786\"],[0.5555555555555556,\"#d8576b\"],[0.6666666666666666,\"#ed7953\"],[0.7777777777777778,\"#fb9f3a\"],[0.8888888888888888,\"#fdca26\"],[1.0,\"#f0f921\"]]}],\"choropleth\":[{\"type\":\"choropleth\",\"colorbar\":{\"outlinewidth\":0,\"ticks\":\"\"}}],\"histogram2d\":[{\"type\":\"histogram2d\",\"colorbar\":{\"outlinewidth\":0,\"ticks\":\"\"},\"colorscale\":[[0.0,\"#0d0887\"],[0.1111111111111111,\"#46039f\"],[0.2222222222222222,\"#7201a8\"],[0.3333333333333333,\"#9c179e\"],[0.4444444444444444,\"#bd3786\"],[0.5555555555555556,\"#d8576b\"],[0.6666666666666666,\"#ed7953\"],[0.7777777777777778,\"#fb9f3a\"],[0.8888888888888888,\"#fdca26\"],[1.0,\"#f0f921\"]]}],\"heatmap\":[{\"type\":\"heatmap\",\"colorbar\":{\"outlinewidth\":0,\"ticks\":\"\"},\"colorscale\":[[0.0,\"#0d0887\"],[0.1111111111111111,\"#46039f\"],[0.2222222222222222,\"#7201a8\"],[0.3333333333333333,\"#9c179e\"],[0.4444444444444444,\"#bd3786\"],[0.5555555555555556,\"#d8576b\"],[0.6666666666666666,\"#ed7953\"],[0.7777777777777778,\"#fb9f3a\"],[0.8888888888888888,\"#fdca26\"],[1.0,\"#f0f921\"]]}],\"heatmapgl\":[{\"type\":\"heatmapgl\",\"colorbar\":{\"outlinewidth\":0,\"ticks\":\"\"},\"colorscale\":[[0.0,\"#0d0887\"],[0.1111111111111111,\"#46039f\"],[0.2222222222222222,\"#7201a8\"],[0.3333333333333333,\"#9c179e\"],[0.4444444444444444,\"#bd3786\"],[0.5555555555555556,\"#d8576b\"],[0.6666666666666666,\"#ed7953\"],[0.7777777777777778,\"#fb9f3a\"],[0.8888888888888888,\"#fdca26\"],[1.0,\"#f0f921\"]]}],\"contourcarpet\":[{\"type\":\"contourcarpet\",\"colorbar\":{\"outlinewidth\":0,\"ticks\":\"\"}}],\"contour\":[{\"type\":\"contour\",\"colorbar\":{\"outlinewidth\":0,\"ticks\":\"\"},\"colorscale\":[[0.0,\"#0d0887\"],[0.1111111111111111,\"#46039f\"],[0.2222222222222222,\"#7201a8\"],[0.3333333333333333,\"#9c179e\"],[0.4444444444444444,\"#bd3786\"],[0.5555555555555556,\"#d8576b\"],[0.6666666666666666,\"#ed7953\"],[0.7777777777777778,\"#fb9f3a\"],[0.8888888888888888,\"#fdca26\"],[1.0,\"#f0f921\"]]}],\"surface\":[{\"type\":\"surface\",\"colorbar\":{\"outlinewidth\":0,\"ticks\":\"\"},\"colorscale\":[[0.0,\"#0d0887\"],[0.1111111111111111,\"#46039f\"],[0.2222222222222222,\"#7201a8\"],[0.3333333333333333,\"#9c179e\"],[0.4444444444444444,\"#bd3786\"],[0.5555555555555556,\"#d8576b\"],[0.6666666666666666,\"#ed7953\"],[0.7777777777777778,\"#fb9f3a\"],[0.8888888888888888,\"#fdca26\"],[1.0,\"#f0f921\"]]}],\"mesh3d\":[{\"type\":\"mesh3d\",\"colorbar\":{\"outlinewidth\":0,\"ticks\":\"\"}}],\"scatter\":[{\"fillpattern\":{\"fillmode\":\"overlay\",\"size\":10,\"solidity\":0.2},\"type\":\"scatter\"}],\"parcoords\":[{\"type\":\"parcoords\",\"line\":{\"colorbar\":{\"outlinewidth\":0,\"ticks\":\"\"}}}],\"scatterpolargl\":[{\"type\":\"scatterpolargl\",\"marker\":{\"colorbar\":{\"outlinewidth\":0,\"ticks\":\"\"}}}],\"bar\":[{\"error_x\":{\"color\":\"#2a3f5f\"},\"error_y\":{\"color\":\"#2a3f5f\"},\"marker\":{\"line\":{\"color\":\"#E5ECF6\",\"width\":0.5},\"pattern\":{\"fillmode\":\"overlay\",\"size\":10,\"solidity\":0.2}},\"type\":\"bar\"}],\"scattergeo\":[{\"type\":\"scattergeo\",\"marker\":{\"colorbar\":{\"outlinewidth\":0,\"ticks\":\"\"}}}],\"scatterpolar\":[{\"type\":\"scatterpolar\",\"marker\":{\"colorbar\":{\"outlinewidth\":0,\"ticks\":\"\"}}}],\"histogram\":[{\"marker\":{\"pattern\":{\"fillmode\":\"overlay\",\"size\":10,\"solidity\":0.2}},\"type\":\"histogram\"}],\"scattergl\":[{\"type\":\"scattergl\",\"marker\":{\"colorbar\":{\"outlinewidth\":0,\"ticks\":\"\"}}}],\"scatter3d\":[{\"type\":\"scatter3d\",\"line\":{\"colorbar\":{\"outlinewidth\":0,\"ticks\":\"\"}},\"marker\":{\"colorbar\":{\"outlinewidth\":0,\"ticks\":\"\"}}}],\"scattermapbox\":[{\"type\":\"scattermapbox\",\"marker\":{\"colorbar\":{\"outlinewidth\":0,\"ticks\":\"\"}}}],\"scatterternary\":[{\"type\":\"scatterternary\",\"marker\":{\"colorbar\":{\"outlinewidth\":0,\"ticks\":\"\"}}}],\"scattercarpet\":[{\"type\":\"scattercarpet\",\"marker\":{\"colorbar\":{\"outlinewidth\":0,\"ticks\":\"\"}}}],\"carpet\":[{\"aaxis\":{\"endlinecolor\":\"#2a3f5f\",\"gridcolor\":\"white\",\"linecolor\":\"white\",\"minorgridcolor\":\"white\",\"startlinecolor\":\"#2a3f5f\"},\"baxis\":{\"endlinecolor\":\"#2a3f5f\",\"gridcolor\":\"white\",\"linecolor\":\"white\",\"minorgridcolor\":\"white\",\"startlinecolor\":\"#2a3f5f\"},\"type\":\"carpet\"}],\"table\":[{\"cells\":{\"fill\":{\"color\":\"#EBF0F8\"},\"line\":{\"color\":\"white\"}},\"header\":{\"fill\":{\"color\":\"#C8D4E3\"},\"line\":{\"color\":\"white\"}},\"type\":\"table\"}],\"barpolar\":[{\"marker\":{\"line\":{\"color\":\"#E5ECF6\",\"width\":0.5},\"pattern\":{\"fillmode\":\"overlay\",\"size\":10,\"solidity\":0.2}},\"type\":\"barpolar\"}],\"pie\":[{\"automargin\":true,\"type\":\"pie\"}]},\"layout\":{\"autotypenumbers\":\"strict\",\"colorway\":[\"#636efa\",\"#EF553B\",\"#00cc96\",\"#ab63fa\",\"#FFA15A\",\"#19d3f3\",\"#FF6692\",\"#B6E880\",\"#FF97FF\",\"#FECB52\"],\"font\":{\"color\":\"#2a3f5f\"},\"hovermode\":\"closest\",\"hoverlabel\":{\"align\":\"left\"},\"paper_bgcolor\":\"white\",\"plot_bgcolor\":\"#E5ECF6\",\"polar\":{\"bgcolor\":\"#E5ECF6\",\"angularaxis\":{\"gridcolor\":\"white\",\"linecolor\":\"white\",\"ticks\":\"\"},\"radialaxis\":{\"gridcolor\":\"white\",\"linecolor\":\"white\",\"ticks\":\"\"}},\"ternary\":{\"bgcolor\":\"#E5ECF6\",\"aaxis\":{\"gridcolor\":\"white\",\"linecolor\":\"white\",\"ticks\":\"\"},\"baxis\":{\"gridcolor\":\"white\",\"linecolor\":\"white\",\"ticks\":\"\"},\"caxis\":{\"gridcolor\":\"white\",\"linecolor\":\"white\",\"ticks\":\"\"}},\"coloraxis\":{\"colorbar\":{\"outlinewidth\":0,\"ticks\":\"\"}},\"colorscale\":{\"sequential\":[[0.0,\"#0d0887\"],[0.1111111111111111,\"#46039f\"],[0.2222222222222222,\"#7201a8\"],[0.3333333333333333,\"#9c179e\"],[0.4444444444444444,\"#bd3786\"],[0.5555555555555556,\"#d8576b\"],[0.6666666666666666,\"#ed7953\"],[0.7777777777777778,\"#fb9f3a\"],[0.8888888888888888,\"#fdca26\"],[1.0,\"#f0f921\"]],\"sequentialminus\":[[0.0,\"#0d0887\"],[0.1111111111111111,\"#46039f\"],[0.2222222222222222,\"#7201a8\"],[0.3333333333333333,\"#9c179e\"],[0.4444444444444444,\"#bd3786\"],[0.5555555555555556,\"#d8576b\"],[0.6666666666666666,\"#ed7953\"],[0.7777777777777778,\"#fb9f3a\"],[0.8888888888888888,\"#fdca26\"],[1.0,\"#f0f921\"]],\"diverging\":[[0,\"#8e0152\"],[0.1,\"#c51b7d\"],[0.2,\"#de77ae\"],[0.3,\"#f1b6da\"],[0.4,\"#fde0ef\"],[0.5,\"#f7f7f7\"],[0.6,\"#e6f5d0\"],[0.7,\"#b8e186\"],[0.8,\"#7fbc41\"],[0.9,\"#4d9221\"],[1,\"#276419\"]]},\"xaxis\":{\"gridcolor\":\"white\",\"linecolor\":\"white\",\"ticks\":\"\",\"title\":{\"standoff\":15},\"zerolinecolor\":\"white\",\"automargin\":true,\"zerolinewidth\":2},\"yaxis\":{\"gridcolor\":\"white\",\"linecolor\":\"white\",\"ticks\":\"\",\"title\":{\"standoff\":15},\"zerolinecolor\":\"white\",\"automargin\":true,\"zerolinewidth\":2},\"scene\":{\"xaxis\":{\"backgroundcolor\":\"#E5ECF6\",\"gridcolor\":\"white\",\"linecolor\":\"white\",\"showbackground\":true,\"ticks\":\"\",\"zerolinecolor\":\"white\",\"gridwidth\":2},\"yaxis\":{\"backgroundcolor\":\"#E5ECF6\",\"gridcolor\":\"white\",\"linecolor\":\"white\",\"showbackground\":true,\"ticks\":\"\",\"zerolinecolor\":\"white\",\"gridwidth\":2},\"zaxis\":{\"backgroundcolor\":\"#E5ECF6\",\"gridcolor\":\"white\",\"linecolor\":\"white\",\"showbackground\":true,\"ticks\":\"\",\"zerolinecolor\":\"white\",\"gridwidth\":2}},\"shapedefaults\":{\"line\":{\"color\":\"#2a3f5f\"}},\"annotationdefaults\":{\"arrowcolor\":\"#2a3f5f\",\"arrowhead\":0,\"arrowwidth\":1},\"geo\":{\"bgcolor\":\"white\",\"landcolor\":\"#E5ECF6\",\"subunitcolor\":\"white\",\"showland\":true,\"showlakes\":true,\"lakecolor\":\"white\"},\"title\":{\"x\":0.05},\"mapbox\":{\"style\":\"light\"}}},\"title\":{\"text\":\"Use of Tools and Toolboxes for Analysis\"},\"showlegend\":false},                        {\"responsive\": true}                    ).then(function(){\n",
       "                            \n",
       "var gd = document.getElementById('26691535-9423-4c09-aced-3a9254d19e56');\n",
       "var x = new MutationObserver(function (mutations, observer) {{\n",
       "        var display = window.getComputedStyle(gd).display;\n",
       "        if (!display || display === 'none') {{\n",
       "            console.log([gd, 'removed!']);\n",
       "            Plotly.purge(gd);\n",
       "            observer.disconnect();\n",
       "        }}\n",
       "}});\n",
       "\n",
       "// Listen for the removal of the full notebook cells\n",
       "var notebookContainer = gd.closest('#notebook-container');\n",
       "if (notebookContainer) {{\n",
       "    x.observe(notebookContainer, {childList: true});\n",
       "}}\n",
       "\n",
       "// Listen for the clearing of the current output cell\n",
       "var outputEl = gd.closest('.output');\n",
       "if (outputEl) {{\n",
       "    x.observe(outputEl, {childList: true});\n",
       "}}\n",
       "\n",
       "                        })                };                });            </script>        </div>"
      ]
     },
     "metadata": {},
     "output_type": "display_data"
    },
    {
     "data": {
      "text/plain": [
       "'figs/pie_AnalysisToolboxes.html'"
      ]
     },
     "execution_count": 38,
     "metadata": {},
     "output_type": "execute_result"
    }
   ],
   "source": [
    "# create distinct entries (rows) for each item in a list of items separated by commas\n",
    "df_sig_tb = df_siganalysis['Toolbox used']\n",
    "numentries = len(df_sig_tb)\n",
    "df_sig_tb = df_sig_tb.apply(lambda x: x.split(','))\n",
    "df_sig_tb = df_sig_tb.explode('Toolbox used')\n",
    "# removes empty entries\n",
    "df_sig_tb = df_sig_tb[df_sig_tb != '']\n",
    "# removes all spaces from the beginning and end of each entry\n",
    "df_sig_tb = df_sig_tb.str.strip()\n",
    "\n",
    "# Calculate relative frequencies\n",
    "df_pipe_tb_counts = pd.Series(df_sig_tb).value_counts(normalize=False)/numentries*100\n",
    "# Create custom text for each slice\n",
    "custom_text_pipe_tb = [f'{label}<br>{value:.2f}%' for label, value in zip(df_pipe_tb_counts.index, df_pipe_tb_counts)]\n",
    "\n",
    "# extract and assign colors from colormap\n",
    "num_categories=len(df_pipe_tb_counts)\n",
    "# Sample colors from the colormap\n",
    "#colors = cmap(np.linspace(0, 1, num_categories))\n",
    "colors = cmap.discrete(num_categories)\n",
    "# Convert colors to hex format\n",
    "plotly_colors = ['#' + ''.join([f'{int(c * 255):02x}' for c in colors(i)[:3]]) for i in range(num_categories)]\n",
    "\n",
    "# Create the pie chart\n",
    "fig = go.Figure(data=go.Pie(\n",
    "    labels=df_pipe_tb_counts.index,\n",
    "    values=df_pipe_tb_counts.values,\n",
    "    text = custom_text_pipe_tb,\n",
    "    textposition='auto',\n",
    "    textinfo = 'text',\n",
    "    textfont=dict(size=16),\n",
    "    marker=dict(colors=plotly_colors)\n",
    "))\n",
    "\n",
    "\n",
    "\n",
    "# Set the layout\n",
    "fig.update_layout(\n",
    "    title='Use of Tools and Toolboxes for Analysis',\n",
    "    showlegend=False\n",
    ")\n",
    "\n",
    "# Show the chart\n",
    "fig.show()\n",
    "# Save the chart\n",
    "plot(fig, filename='figs/pie_AnalysisToolboxes.html')"
   ]
  },
  {
   "attachments": {},
   "cell_type": "markdown",
   "metadata": {},
   "source": [
    "**Prepare Data and Nodes for Analysis Sankey Diagram**"
   ]
  },
  {
   "cell_type": "code",
   "execution_count": 39,
   "metadata": {},
   "outputs": [],
   "source": [
    "\n",
    "# create distinct entries (rows) for each item in a list of items separated by commas (e.g. for different Toolboxes)\n",
    "column_list = ['Quality/Pruning: Method', 'Motion Artifact Method', 'Resample/Downsample (Hz)', \\\n",
    "    'Filtering Coding', 'Removal of the Global Signals during Preprocessing', 'Approach', \\\n",
    "        'GLM: Method', 'GLM: HRF Regressor', 'GLM: Other Regressors']\n",
    "\n",
    "# save number of entries in df_siganalysis\n",
    "numentries_sa = len(df_siganalysis)\n",
    "# save copy of df_siganalysis\n",
    "df_siganalysis_notexp = df_siganalysis.copy()\n",
    "\n",
    "# split entries and save relative weights in corresponding new columns\n",
    "\"\"\" for columnName in column_list:\n",
    "    df_siganalysis['weight '+columnName] = df_siganalysis[columnName].apply(lambda x: 1 / len(x.split(',')) if x else 1)\n",
    "    df_siganalysis[columnName] = df_siganalysis[columnName].apply(lambda x: x.split(','))\n",
    "    df_siganalysis = df_siganalysis.explode(columnName) \"\"\"\n",
    "\n",
    "\"\"\" # copy 'ID' and  all data from columns of df_siganalyis that contain 'weight ' to a new pandas data frame 'weights_siganalysis'\n",
    "weights_siganalysis = df_siganalysis[['ID']]\n",
    "for columnName in df_siganalysis.columns:\n",
    "    if 'weight ' in columnName:\n",
    "        weights_siganalysis[columnName] = df_siganalysis[columnName]\n",
    "#remove 'weight ' from column names\n",
    "weights_siganalysis.columns = weights_siganalysis.columns.str.replace('weight ', '')\n",
    "# remove all columns of df_siganalysis that contain 'weight '\n",
    "df_siganalysis = df_siganalysis.loc[:, ~df_siganalysis.columns.str.contains('weight ')]\n",
    " \"\"\"\n",
    "\n",
    "# Create a list of all nodes (i.e., unique values in the listed columns in column_list)\n",
    "nodes = pd.concat([df_siganalysis[col] for col in column_list]).unique()\n",
    "\n",
    "# Create a dictionary that maps each node to a unique index\n",
    "node_indices = {node: i for i, node in enumerate(nodes)}\n",
    "\n",
    "# Create lists to store the source, target, and value for each link\n",
    "source, target, value = [], [], []\n",
    "\n",
    "for i, row in df_siganalysis.iterrows():\n",
    "    for j in range(len(column_list) - 1):\n",
    "        current_col = column_list[j]\n",
    "        next_col = column_list[j + 1]\n",
    "        # Check if current_col or next_col is an empty string\n",
    "        if row[current_col] == '' or row[next_col] == '':\n",
    "            break\n",
    "\n",
    "        source.append(node_indices[row[current_col]])\n",
    "        target.append(node_indices[row[next_col]])\n",
    "        value.append(1)\n",
    "\n",
    "\n",
    "# Generate distinct colors from the seaborn spectral color palette\n",
    "num_colors = len(nodes)\n",
    "palette = cmap(np.linspace(0, 1, num_colors))\n",
    "# Define colors for each node\n",
    "node_colors_hex = [mc.to_hex(color) for color in palette]\n",
    "\n",
    "# Function to convert hex color to RGBA with specified transparency\n",
    "def hex_to_rgba(hex_color, alpha=0.5):\n",
    "    # Convert hex to an RGB tuple\n",
    "    rgb_tuple = mc.to_rgb(hex_color)\n",
    "    # Convert the RGB tuple to an RGBA string with the specified alpha value\n",
    "    return \"rgba({r},{g},{b}, {alpha})\".format(r=int(rgb_tuple[0]*255), g=int(rgb_tuple[1]*255), b=int(rgb_tuple[2]*255), alpha=alpha)\n",
    "\n",
    "# initialize link_colors with length of source with empty strings\n",
    "link_colors = [''] * len(source)\n",
    "node_colors = [''] * len(nodes)\n",
    "\n",
    "# Generate link and node colors \n",
    "for i in range(len(nodes)):\n",
    "    # node colors in rgba and not transparent\n",
    "    node_colors[i] = hex_to_rgba(node_colors_hex[i], alpha=1)\n",
    "for s in source:\n",
    "    # link colors based on the color of their source node with 0.5 transparency\n",
    "    link_colors[s] = hex_to_rgba(node_colors_hex[source[s]], alpha=0.5)\n"
   ]
  },
  {
   "cell_type": "markdown",
   "metadata": {},
   "source": [
    "**Calculate Statistics/Frequencies of Entries in Analysis**\n",
    "\n",
    "Count the times that methods/steps were performed and report the relative frequencies in percent (sometimes several steps from the same stage are performed. to correct for this use the weights in weights_signalanalysis)"
   ]
  },
  {
   "cell_type": "code",
   "execution_count": 40,
   "metadata": {},
   "outputs": [
    {
     "name": "stdout",
     "output_type": "stream",
     "text": [
      "{'No Pruning': 6, 'SCI (Scalp-Coupling Index),Manual Pruning': 1, 'Manual Pruning,SCI (Scalp-Coupling Index)': 1, 'PSP (Cardiac Power Spectrum Peak),SNR Threshold,Manual Pruning': 1, 'Other Pruning Method': 8, 'SNR Threshold': 10, 'PSP (Cardiac Power Spectrum Peak),SCI (Scalp-Coupling Index),Manual Pruning': 2, 'SCI (Scalp-Coupling Index),PSP (Cardiac Power Spectrum Peak)': 4, 'PSP (Cardiac Power Spectrum Peak),SCI (Scalp-Coupling Index)': 6, 'Manual Pruning': 6, 'SNR Threshold,Manual Pruning,Other Pruning Method': 1, 'Manual Pruning,SNR Threshold,Other Pruning Method': 1, 'SCI (Scalp-Coupling Index)': 8, 'SCI (Scalp-Coupling Index),SNR Threshold': 2, 'Manual Pruning,SNR Threshold,Manual Pruning': 2, 'SNR Threshold,PSP (Cardiac Power Spectrum Peak)': 1, 'PSP (Cardiac Power Spectrum Peak),SNR Threshold': 1, 'Manual Pruning,Other Pruning Method': 2, 'PSP (Cardiac Power Spectrum Peak),SNR Threshold,Manual Pruning,Other Pruning Method': 2, 'Manual Pruning,Manual Pruning': 1, 'SNR Threshold,Other Pruning Method': 4, 'No Artifact Removal': 8, 'TDDR': 18, 'Hybrid spline wavelet': 10, 'Trial Rejection': 2, 'Targeted PCA': 6, 'Wavelet Filter': 6, 'Spline Interpolation,Wavelet Filter': 4, 'Other Removal Method': 2, 'CBSI': 2, 'Spline SG': 3, 'TDDR,Targeted PCA': 1, 'TDDR,Monotonic Interpolation': 2, 'CBSI,Spline SG': 2, 'Trial Rejection,Monotonic Interpolation,TDDR': 1, 'Monotonic Interpolation,Trial Rejection': 1, 'CBSI,TDDR': 1, 'Trial Rejection,Spline SG': 1, 'No Resampling': 59, '2': 1, '1': 2, '3': 2, '4': 3, '8': 1, '5': 2, 'BP': 49, 'LP': 14, 'No Filtering': 5, 'HP': 2, 'Other Method': 26, 'No Removal': 43, 'PCA': 1, 'Block Averaging': 14, 'GLM': 55, 'Other': 5, 'Baseline correction': 6, 'OLS   ': 23, 'No Correction': 5, 'Detrending': 4, 'AR-IRLS': 32, '': 15, 'SPM': 8, 'Consecutive Gaussian': 15, 'Canonical': 12, 'FIR': 3, 'Gamma': 11, 'Glover': 6, 'Polynomial Drift,Short Channels': 5, 'Short Channels,Polynomial Drift': 3, 'Short Channels': 32, 'PCA of the Short Channels': 4, 'Unknown Additional Regressors': 6, 'Unknown Additional Regressors,PCA of the Short Channels': 1, 'PCA of the Short Channels,Unknown Additional Regressors': 1, 'Cosine drift,PCA of the Short Channels': 2, 'Cosine drift,Short Channels': 1}\n"
     ]
    }
   ],
   "source": [
    "# count the occurence of all items from the list of nodes in df_signalanalysis and save it in a dictionary\n",
    "abs_node_count = {}\n",
    "\n",
    "# Calculate relative frequencies\n",
    "df_pipe_tb_counts = pd.Series(df_sig_tb).value_counts(normalize=False)/numentries_sa*100\n",
    "\n",
    "for node in nodes:\n",
    "# find columns and row indices of values that contain the node\n",
    "    col_name = [col for col in column_list if node in df_siganalysis[col].unique()]\n",
    "    # Find rows where 'node' is present\n",
    "    mask = df_siganalysis.apply(lambda x: node in x.values, axis=1)\n",
    "    # Get the indices of rows where 'node' is found\n",
    "    row_indices = mask[mask].index.tolist()\n",
    "    # calculate the sum of the weights of the rows where 'node' is found\n",
    "    #abs_node_count[node] = weights_siganalysis.loc[row_indices, col_name].sum(axis=0)[0]\n",
    "    abs_node_count[node] = df_siganalysis.apply(lambda x: node in x.values, axis=1).sum()\n",
    "\n",
    "print(abs_node_count)\n",
    "\n",
    "\n",
    "# calculate relative node count in % by normalizing with the total number of rows in df_signalanalysis\n",
    "rel_node_count = {key: (abs_node_count[key] / numentries_sa)*100 for key in abs_node_count.keys()}\n",
    "# round the relative node count to 1 decimal\n",
    "rel_node_count = {key: round(rel_node_count[key], 1) for key in rel_node_count.keys()}\n",
    "\n",
    "# Make the label list for the nodes, adding the relative node count in % to the node name\n",
    "node_labels = [node + ' (' + str(rel_node_count[node]) + '%)' for node in nodes] "
   ]
  },
  {
   "attachments": {},
   "cell_type": "markdown",
   "metadata": {},
   "source": [
    "**Plot Analysis Sankey Diagram**"
   ]
  },
  {
   "cell_type": "code",
   "execution_count": 41,
   "metadata": {},
   "outputs": [
    {
     "data": {
      "application/vnd.plotly.v1+json": {
       "config": {
        "plotlyServerURL": "https://plot.ly"
       },
       "data": [
        {
         "link": {
          "source": [
           0,
           21,
           38,
           45,
           49,
           52,
           1,
           22,
           38,
           46,
           49,
           53,
           56,
           61,
           2,
           22,
           38,
           46,
           49,
           53,
           56,
           61,
           3,
           23,
           38,
           45,
           50,
           54,
           4,
           24,
           38,
           45,
           49,
           52,
           4,
           24,
           38,
           45,
           49,
           52,
           5,
           25,
           38,
           45,
           50,
           52,
           5,
           25,
           38,
           45,
           50,
           52,
           6,
           26,
           38,
           46,
           50,
           52,
           6,
           26,
           38,
           46,
           50,
           52,
           0,
           22,
           38,
           45,
           50,
           53,
           56,
           61,
           0,
           22,
           38,
           45,
           50,
           52,
           7,
           26,
           38,
           45,
           50,
           53,
           56,
           62,
           8,
           26,
           38,
           45,
           50,
           53,
           56,
           61,
           9,
           26,
           39,
           45,
           50,
           53,
           59,
           63,
           9,
           22,
           40,
           45,
           50,
           53,
           59,
           64,
           10,
           27,
           38,
           45,
           50,
           52,
           11,
           27,
           38,
           45,
           50,
           52,
           12,
           22,
           38,
           45,
           50,
           53,
           59,
           63,
           12,
           22,
           41,
           45,
           50,
           53,
           59,
           63,
           9,
           28,
           38,
           47,
           50,
           53,
           59,
           62,
           9,
           28,
           38,
           47,
           50,
           53,
           59,
           62,
           8,
           22,
           38,
           45,
           50,
           53,
           56,
           65,
           4,
           27,
           42,
           48,
           49,
           53,
           59,
           63,
           4,
           27,
           42,
           48,
           49,
           53,
           59,
           63,
           5,
           29,
           38,
           45,
           50,
           53,
           56,
           62,
           5,
           29,
           38,
           45,
           50,
           53,
           59,
           62,
           8,
           22,
           38,
           45,
           50,
           53,
           56,
           61,
           8,
           22,
           38,
           45,
           50,
           53,
           56,
           61,
           5,
           30,
           38,
           45,
           49,
           53,
           56,
           62,
           5,
           30,
           38,
           45,
           49,
           53,
           56,
           62,
           13,
           31,
           42,
           45,
           50,
           53,
           59,
           63,
           13,
           22,
           43,
           45,
           50,
           53,
           59,
           63,
           0,
           25,
           38,
           46,
           49,
           53,
           56,
           66,
           0,
           25,
           38,
           46,
           49,
           53,
           56,
           66,
           12,
           32,
           38,
           45,
           49,
           53,
           59,
           65,
           0,
           32,
           38,
           45,
           49,
           53,
           59,
           65,
           9,
           23,
           38,
           45,
           50,
           53,
           56,
           62,
           9,
           23,
           38,
           45,
           50,
           53,
           56,
           62,
           14,
           25,
           38,
           45,
           50,
           53,
           56,
           62,
           14,
           25,
           38,
           45,
           50,
           53,
           56,
           62,
           8,
           22,
           38,
           45,
           49,
           53,
           59,
           63,
           4,
           23,
           38,
           46,
           50,
           52,
           4,
           23,
           38,
           46,
           50,
           52,
           7,
           21,
           38,
           45,
           50,
           53,
           59,
           63,
           7,
           21,
           38,
           45,
           50,
           53,
           59,
           63,
           15,
           23,
           38,
           46,
           49,
           53,
           59,
           65,
           16,
           23,
           38,
           46,
           49,
           53,
           59,
           65,
           4,
           22,
           38,
           45,
           50,
           53,
           59,
           66,
           4,
           22,
           38,
           45,
           50,
           53,
           59,
           66,
           5,
           33,
           38,
           45,
           49,
           52,
           5,
           33,
           38,
           45,
           49,
           52,
           8,
           22,
           44,
           45,
           49,
           53,
           59,
           64,
           7,
           22,
           44,
           45,
           49,
           53,
           59,
           64,
           12,
           22,
           38,
           45,
           50,
           53,
           59,
           66,
           12,
           22,
           38,
           45,
           50,
           53,
           59,
           66,
           12,
           21,
           41,
           47,
           50,
           53,
           56,
           61,
           17,
           34,
           38,
           45,
           50,
           53,
           59,
           65,
           17,
           35,
           38,
           45,
           50,
           53,
           59,
           65,
           18,
           21,
           38,
           45,
           49,
           53,
           56,
           65,
           18,
           21,
           40,
           45,
           49,
           53,
           56,
           65,
           19,
           36,
           38,
           45,
           51,
           53,
           56,
           61,
           12,
           21,
           38,
           47,
           49,
           53,
           59,
           63,
           12,
           21,
           38,
           47,
           49,
           53,
           59,
           63,
           20,
           23,
           38,
           46,
           49,
           53,
           59,
           65,
           20,
           23,
           38,
           46,
           49,
           53,
           59,
           65,
           20,
           23,
           38,
           46,
           50,
           53,
           59,
           62,
           20,
           26,
           38,
           46,
           50,
           53,
           59,
           62,
           5,
           30,
           38,
           45,
           50,
           53,
           56,
           62,
           5,
           37,
           38,
           45,
           50,
           53,
           56,
           62
          ],
          "target": [
           21,
           38,
           45,
           49,
           52,
           55,
           22,
           38,
           46,
           49,
           53,
           56,
           61,
           67,
           22,
           38,
           46,
           49,
           53,
           56,
           61,
           68,
           23,
           38,
           45,
           50,
           54,
           57,
           24,
           38,
           45,
           49,
           52,
           58,
           24,
           38,
           45,
           49,
           52,
           58,
           25,
           38,
           45,
           50,
           52,
           57,
           25,
           38,
           45,
           50,
           52,
           57,
           26,
           38,
           46,
           50,
           52,
           55,
           26,
           38,
           46,
           50,
           52,
           55,
           22,
           38,
           45,
           50,
           53,
           56,
           61,
           69,
           22,
           38,
           45,
           50,
           52,
           55,
           26,
           38,
           45,
           50,
           53,
           56,
           62,
           69,
           26,
           38,
           45,
           50,
           53,
           56,
           61,
           69,
           26,
           39,
           45,
           50,
           53,
           59,
           63,
           69,
           22,
           40,
           45,
           50,
           53,
           59,
           64,
           69,
           27,
           38,
           45,
           50,
           52,
           57,
           27,
           38,
           45,
           50,
           52,
           57,
           22,
           38,
           45,
           50,
           53,
           59,
           63,
           70,
           22,
           41,
           45,
           50,
           53,
           59,
           63,
           70,
           28,
           38,
           47,
           50,
           53,
           59,
           62,
           69,
           28,
           38,
           47,
           50,
           53,
           59,
           62,
           69,
           22,
           38,
           45,
           50,
           53,
           56,
           65,
           69,
           27,
           42,
           48,
           49,
           53,
           59,
           63,
           69,
           27,
           42,
           48,
           49,
           53,
           59,
           63,
           69,
           29,
           38,
           45,
           50,
           53,
           56,
           62,
           69,
           29,
           38,
           45,
           50,
           53,
           59,
           62,
           69,
           22,
           38,
           45,
           50,
           53,
           56,
           61,
           69,
           22,
           38,
           45,
           50,
           53,
           56,
           61,
           69,
           30,
           38,
           45,
           49,
           53,
           56,
           62,
           69,
           30,
           38,
           45,
           49,
           53,
           56,
           62,
           69,
           31,
           42,
           45,
           50,
           53,
           59,
           63,
           69,
           22,
           43,
           45,
           50,
           53,
           59,
           63,
           69,
           25,
           38,
           46,
           49,
           53,
           56,
           66,
           69,
           25,
           38,
           46,
           49,
           53,
           56,
           66,
           69,
           32,
           38,
           45,
           49,
           53,
           59,
           65,
           69,
           32,
           38,
           45,
           49,
           53,
           59,
           65,
           69,
           23,
           38,
           45,
           50,
           53,
           56,
           62,
           67,
           23,
           38,
           45,
           50,
           53,
           56,
           62,
           67,
           25,
           38,
           45,
           50,
           53,
           56,
           62,
           67,
           25,
           38,
           45,
           50,
           53,
           56,
           62,
           67,
           22,
           38,
           45,
           49,
           53,
           59,
           63,
           71,
           23,
           38,
           46,
           50,
           52,
           55,
           23,
           38,
           46,
           50,
           52,
           55,
           21,
           38,
           45,
           50,
           53,
           59,
           63,
           71,
           21,
           38,
           45,
           50,
           53,
           59,
           63,
           71,
           23,
           38,
           46,
           49,
           53,
           59,
           65,
           72,
           23,
           38,
           46,
           49,
           53,
           59,
           65,
           73,
           22,
           38,
           45,
           50,
           53,
           59,
           66,
           69,
           22,
           38,
           45,
           50,
           53,
           59,
           66,
           69,
           33,
           38,
           45,
           49,
           52,
           58,
           33,
           38,
           45,
           49,
           52,
           58,
           22,
           44,
           45,
           49,
           53,
           59,
           64,
           71,
           22,
           44,
           45,
           49,
           53,
           59,
           64,
           71,
           22,
           38,
           45,
           50,
           53,
           59,
           66,
           74,
           22,
           38,
           45,
           50,
           53,
           59,
           66,
           74,
           21,
           41,
           47,
           50,
           53,
           56,
           61,
           75,
           34,
           38,
           45,
           50,
           53,
           59,
           65,
           69,
           35,
           38,
           45,
           50,
           53,
           59,
           65,
           69,
           21,
           38,
           45,
           49,
           53,
           56,
           65,
           69,
           21,
           40,
           45,
           49,
           53,
           56,
           65,
           69,
           36,
           38,
           45,
           51,
           53,
           56,
           61,
           71,
           21,
           38,
           47,
           49,
           53,
           59,
           63,
           69,
           21,
           38,
           47,
           49,
           53,
           59,
           63,
           69,
           23,
           38,
           46,
           49,
           53,
           59,
           65,
           70,
           23,
           38,
           46,
           49,
           53,
           59,
           65,
           70,
           23,
           38,
           46,
           50,
           53,
           59,
           62,
           69,
           26,
           38,
           46,
           50,
           53,
           59,
           62,
           69,
           30,
           38,
           45,
           50,
           53,
           56,
           62,
           68,
           37,
           38,
           45,
           50,
           53,
           56,
           62,
           68
          ],
          "value": [
           1,
           1,
           1,
           1,
           1,
           1,
           1,
           1,
           1,
           1,
           1,
           1,
           1,
           1,
           1,
           1,
           1,
           1,
           1,
           1,
           1,
           1,
           1,
           1,
           1,
           1,
           1,
           1,
           1,
           1,
           1,
           1,
           1,
           1,
           1,
           1,
           1,
           1,
           1,
           1,
           1,
           1,
           1,
           1,
           1,
           1,
           1,
           1,
           1,
           1,
           1,
           1,
           1,
           1,
           1,
           1,
           1,
           1,
           1,
           1,
           1,
           1,
           1,
           1,
           1,
           1,
           1,
           1,
           1,
           1,
           1,
           1,
           1,
           1,
           1,
           1,
           1,
           1,
           1,
           1,
           1,
           1,
           1,
           1,
           1,
           1,
           1,
           1,
           1,
           1,
           1,
           1,
           1,
           1,
           1,
           1,
           1,
           1,
           1,
           1,
           1,
           1,
           1,
           1,
           1,
           1,
           1,
           1,
           1,
           1,
           1,
           1,
           1,
           1,
           1,
           1,
           1,
           1,
           1,
           1,
           1,
           1,
           1,
           1,
           1,
           1,
           1,
           1,
           1,
           1,
           1,
           1,
           1,
           1,
           1,
           1,
           1,
           1,
           1,
           1,
           1,
           1,
           1,
           1,
           1,
           1,
           1,
           1,
           1,
           1,
           1,
           1,
           1,
           1,
           1,
           1,
           1,
           1,
           1,
           1,
           1,
           1,
           1,
           1,
           1,
           1,
           1,
           1,
           1,
           1,
           1,
           1,
           1,
           1,
           1,
           1,
           1,
           1,
           1,
           1,
           1,
           1,
           1,
           1,
           1,
           1,
           1,
           1,
           1,
           1,
           1,
           1,
           1,
           1,
           1,
           1,
           1,
           1,
           1,
           1,
           1,
           1,
           1,
           1,
           1,
           1,
           1,
           1,
           1,
           1,
           1,
           1,
           1,
           1,
           1,
           1,
           1,
           1,
           1,
           1,
           1,
           1,
           1,
           1,
           1,
           1,
           1,
           1,
           1,
           1,
           1,
           1,
           1,
           1,
           1,
           1,
           1,
           1,
           1,
           1,
           1,
           1,
           1,
           1,
           1,
           1,
           1,
           1,
           1,
           1,
           1,
           1,
           1,
           1,
           1,
           1,
           1,
           1,
           1,
           1,
           1,
           1,
           1,
           1,
           1,
           1,
           1,
           1,
           1,
           1,
           1,
           1,
           1,
           1,
           1,
           1,
           1,
           1,
           1,
           1,
           1,
           1,
           1,
           1,
           1,
           1,
           1,
           1,
           1,
           1,
           1,
           1,
           1,
           1,
           1,
           1,
           1,
           1,
           1,
           1,
           1,
           1,
           1,
           1,
           1,
           1,
           1,
           1,
           1,
           1,
           1,
           1,
           1,
           1,
           1,
           1,
           1,
           1,
           1,
           1,
           1,
           1,
           1,
           1,
           1,
           1,
           1,
           1,
           1,
           1,
           1,
           1,
           1,
           1,
           1,
           1,
           1,
           1,
           1,
           1,
           1,
           1,
           1,
           1,
           1,
           1,
           1,
           1,
           1,
           1,
           1,
           1,
           1,
           1,
           1,
           1,
           1,
           1,
           1,
           1,
           1,
           1,
           1,
           1,
           1,
           1,
           1,
           1,
           1,
           1,
           1,
           1,
           1,
           1,
           1,
           1,
           1,
           1,
           1,
           1,
           1,
           1,
           1,
           1,
           1,
           1,
           1,
           1,
           1,
           1,
           1,
           1,
           1,
           1,
           1,
           1,
           1,
           1,
           1,
           1,
           1,
           1,
           1,
           1,
           1,
           1,
           1,
           1,
           1,
           1,
           1,
           1,
           1,
           1,
           1,
           1,
           1,
           1,
           1,
           1,
           1,
           1,
           1,
           1,
           1,
           1,
           1,
           1,
           1,
           1,
           1,
           1,
           1,
           1,
           1,
           1,
           1,
           1,
           1,
           1,
           1,
           1,
           1,
           1,
           1,
           1,
           1,
           1,
           1,
           1,
           1,
           1,
           1,
           1,
           1,
           1,
           1,
           1,
           1,
           1,
           1,
           1,
           1,
           1,
           1,
           1,
           1,
           1,
           1,
           1,
           1,
           1,
           1,
           1,
           1,
           1,
           1,
           1,
           1,
           1,
           1,
           1,
           1,
           1,
           1,
           1,
           1,
           1,
           1,
           1,
           1,
           1,
           1,
           1,
           1,
           1,
           1,
           1,
           1,
           1,
           1,
           1,
           1,
           1,
           1,
           1,
           1,
           1,
           1,
           1,
           1,
           1,
           1,
           1,
           1,
           1,
           1,
           1,
           1,
           1,
           1,
           1,
           1,
           1,
           1,
           1,
           1,
           1,
           1,
           1
          ]
         },
         "node": {
          "color": [
           "rgba(222,217,255, 1)",
           "rgba(214,211,251, 1)",
           "rgba(206,205,248, 1)",
           "rgba(195,198,243, 1)",
           "rgba(187,192,240, 1)",
           "rgba(176,185,235, 1)",
           "rgba(168,179,232, 1)",
           "rgba(160,173,228, 1)",
           "rgba(150,166,223, 1)",
           "rgba(142,160,220, 1)",
           "rgba(131,153,215, 1)",
           "rgba(123,147,211, 1)",
           "rgba(115,141,206, 1)",
           "rgba(105,133,200, 1)",
           "rgba(97,127,195, 1)",
           "rgba(87,119,186, 1)",
           "rgba(81,113,180, 1)",
           "rgba(73,105,170, 1)",
           "rgba(67,99,162, 1)",
           "rgba(62,94,154, 1)",
           "rgba(57,87,144, 1)",
           "rgba(53,82,136, 1)",
           "rgba(49,76,126, 1)",
           "rgba(46,71,118, 1)",
           "rgba(43,66,111, 1)",
           "rgba(39,60,101, 1)",
           "rgba(36,56,93, 1)",
           "rgba(33,50,84, 1)",
           "rgba(30,46,77, 1)",
           "rgba(28,42,70, 1)",
           "rgba(25,37,61, 1)",
           "rgba(22,33,54, 1)",
           "rgba(20,29,46, 1)",
           "rgba(18,26,40, 1)",
           "rgba(17,23,33, 1)",
           "rgba(15,21,29, 1)",
           "rgba(14,21,25, 1)",
           "rgba(13,21,21, 1)",
           "rgba(13,22,19, 1)",
           "rgba(14,25,18, 1)",
           "rgba(15,28,18, 1)",
           "rgba(17,31,18, 1)",
           "rgba(18,35,20, 1)",
           "rgba(20,39,22, 1)",
           "rgba(22,45,24, 1)",
           "rgba(24,50,26, 1)",
           "rgba(26,56,29, 1)",
           "rgba(29,61,32, 1)",
           "rgba(31,66,34, 1)",
           "rgba(34,72,37, 1)",
           "rgba(36,77,40, 1)",
           "rgba(39,84,44, 1)",
           "rgba(42,90,46, 1)",
           "rgba(44,95,49, 1)",
           "rgba(48,102,53, 1)",
           "rgba(51,108,56, 1)",
           "rgba(55,115,60, 1)",
           "rgba(58,121,63, 1)",
           "rgba(62,127,66, 1)",
           "rgba(68,135,71, 1)",
           "rgba(74,141,75, 1)",
           "rgba(82,149,81, 1)",
           "rgba(90,156,86, 1)",
           "rgba(100,164,92, 1)",
           "rgba(109,169,97, 1)",
           "rgba(118,175,102, 1)",
           "rgba(130,182,108, 1)",
           "rgba(139,187,113, 1)",
           "rgba(151,194,120, 1)",
           "rgba(160,198,124, 1)",
           "rgba(169,203,129, 1)",
           "rgba(181,209,135, 1)",
           "rgba(189,214,140, 1)",
           "rgba(201,220,146, 1)",
           "rgba(210,225,151, 1)",
           "rgba(219,230,155, 1)"
          ],
          "label": [
           "No Pruning (8.6%)",
           "SCI (Scalp-Coupling Index),Manual Pruning (1.4%)",
           "Manual Pruning,SCI (Scalp-Coupling Index) (1.4%)",
           "PSP (Cardiac Power Spectrum Peak),SNR Threshold,Manual Pruning (1.4%)",
           "Other Pruning Method (11.4%)",
           "SNR Threshold (14.3%)",
           "PSP (Cardiac Power Spectrum Peak),SCI (Scalp-Coupling Index),Manual Pruning (2.9%)",
           "SCI (Scalp-Coupling Index),PSP (Cardiac Power Spectrum Peak) (5.7%)",
           "PSP (Cardiac Power Spectrum Peak),SCI (Scalp-Coupling Index) (8.6%)",
           "Manual Pruning (8.6%)",
           "SNR Threshold,Manual Pruning,Other Pruning Method (1.4%)",
           "Manual Pruning,SNR Threshold,Other Pruning Method (1.4%)",
           "SCI (Scalp-Coupling Index) (11.4%)",
           "SCI (Scalp-Coupling Index),SNR Threshold (2.9%)",
           "Manual Pruning,SNR Threshold,Manual Pruning (2.9%)",
           "SNR Threshold,PSP (Cardiac Power Spectrum Peak) (1.4%)",
           "PSP (Cardiac Power Spectrum Peak),SNR Threshold (1.4%)",
           "Manual Pruning,Other Pruning Method (2.9%)",
           "PSP (Cardiac Power Spectrum Peak),SNR Threshold,Manual Pruning,Other Pruning Method (2.9%)",
           "Manual Pruning,Manual Pruning (1.4%)",
           "SNR Threshold,Other Pruning Method (5.7%)",
           "No Artifact Removal (11.4%)",
           "TDDR (25.7%)",
           "Hybrid spline wavelet (14.3%)",
           "Trial Rejection (2.9%)",
           "Targeted PCA (8.6%)",
           "Wavelet Filter (8.6%)",
           "Spline Interpolation,Wavelet Filter (5.7%)",
           "Other Removal Method (2.9%)",
           "CBSI (2.9%)",
           "Spline SG (4.3%)",
           "TDDR,Targeted PCA (1.4%)",
           "TDDR,Monotonic Interpolation (2.9%)",
           "CBSI,Spline SG (2.9%)",
           "Trial Rejection,Monotonic Interpolation,TDDR (1.4%)",
           "Monotonic Interpolation,Trial Rejection (1.4%)",
           "CBSI,TDDR (1.4%)",
           "Trial Rejection,Spline SG (1.4%)",
           "No Resampling (84.3%)",
           "2 (1.4%)",
           "1 (2.9%)",
           "3 (2.9%)",
           "4 (4.3%)",
           "8 (1.4%)",
           "5 (2.9%)",
           "BP (70.0%)",
           "LP (20.0%)",
           "No Filtering (7.1%)",
           "HP (2.9%)",
           "Other Method (37.1%)",
           "No Removal (61.4%)",
           "PCA (1.4%)",
           "Block Averaging (20.0%)",
           "GLM (78.6%)",
           "Other (7.1%)",
           "Baseline correction (8.6%)",
           "OLS    (32.9%)",
           "No Correction (7.1%)",
           "Detrending (5.7%)",
           "AR-IRLS (45.7%)",
           " (21.4%)",
           "SPM (11.4%)",
           "Consecutive Gaussian (21.4%)",
           "Canonical (17.1%)",
           "FIR (4.3%)",
           "Gamma (15.7%)",
           "Glover (8.6%)",
           "Polynomial Drift,Short Channels (7.1%)",
           "Short Channels,Polynomial Drift (4.3%)",
           "Short Channels (45.7%)",
           "PCA of the Short Channels (5.7%)",
           "Unknown Additional Regressors (8.6%)",
           "Unknown Additional Regressors,PCA of the Short Channels (1.4%)",
           "PCA of the Short Channels,Unknown Additional Regressors (1.4%)",
           "Cosine drift,PCA of the Short Channels (2.9%)",
           "Cosine drift,Short Channels (1.4%)"
          ],
          "line": {
           "color": "black",
           "width": 0.5
          },
          "pad": 15,
          "thickness": 20
         },
         "type": "sankey"
        }
       ],
       "layout": {
        "annotations": [
         {
          "font": {
           "size": 16
          },
          "showarrow": false,
          "text": "Quality/Pruning Method",
          "x": 0,
          "xref": "paper",
          "y": 1.05,
          "yref": "paper"
         },
         {
          "font": {
           "size": 16
          },
          "showarrow": false,
          "text": "Motion Artifact Method",
          "x": 0.125,
          "xref": "paper",
          "y": 1.05,
          "yref": "paper"
         },
         {
          "font": {
           "size": 16
          },
          "showarrow": false,
          "text": "Resampling (Hz)",
          "x": 0.25,
          "xref": "paper",
          "y": 1.05,
          "yref": "paper"
         },
         {
          "font": {
           "size": 16
          },
          "showarrow": false,
          "text": "Filtering",
          "x": 0.375,
          "xref": "paper",
          "y": 1.05,
          "yref": "paper"
         },
         {
          "font": {
           "size": 16
          },
          "showarrow": false,
          "text": "Physiology Preprocessing",
          "x": 0.5,
          "xref": "paper",
          "y": 1.05,
          "yref": "paper"
         },
         {
          "font": {
           "size": 16
          },
          "showarrow": false,
          "text": "HRF Estimation",
          "x": 0.625,
          "xref": "paper",
          "y": 1.05,
          "yref": "paper"
         },
         {
          "font": {
           "size": 16
          },
          "showarrow": false,
          "text": "Solver / Modifiers",
          "x": 0.75,
          "xref": "paper",
          "y": 1.05,
          "yref": "paper"
         },
         {
          "font": {
           "size": 16
          },
          "showarrow": false,
          "text": "GLM HRF Regressor",
          "x": 0.875,
          "xref": "paper",
          "y": 1.05,
          "yref": "paper"
         },
         {
          "font": {
           "size": 16
          },
          "showarrow": false,
          "text": "GLM Other Regressors",
          "x": 1,
          "xref": "paper",
          "y": 1.05,
          "yref": "paper"
         }
        ],
        "autosize": true,
        "font": {
         "size": 16
        },
        "template": {
         "data": {
          "bar": [
           {
            "error_x": {
             "color": "#2a3f5f"
            },
            "error_y": {
             "color": "#2a3f5f"
            },
            "marker": {
             "line": {
              "color": "#E5ECF6",
              "width": 0.5
             },
             "pattern": {
              "fillmode": "overlay",
              "size": 10,
              "solidity": 0.2
             }
            },
            "type": "bar"
           }
          ],
          "barpolar": [
           {
            "marker": {
             "line": {
              "color": "#E5ECF6",
              "width": 0.5
             },
             "pattern": {
              "fillmode": "overlay",
              "size": 10,
              "solidity": 0.2
             }
            },
            "type": "barpolar"
           }
          ],
          "carpet": [
           {
            "aaxis": {
             "endlinecolor": "#2a3f5f",
             "gridcolor": "white",
             "linecolor": "white",
             "minorgridcolor": "white",
             "startlinecolor": "#2a3f5f"
            },
            "baxis": {
             "endlinecolor": "#2a3f5f",
             "gridcolor": "white",
             "linecolor": "white",
             "minorgridcolor": "white",
             "startlinecolor": "#2a3f5f"
            },
            "type": "carpet"
           }
          ],
          "choropleth": [
           {
            "colorbar": {
             "outlinewidth": 0,
             "ticks": ""
            },
            "type": "choropleth"
           }
          ],
          "contour": [
           {
            "colorbar": {
             "outlinewidth": 0,
             "ticks": ""
            },
            "colorscale": [
             [
              0,
              "#0d0887"
             ],
             [
              0.1111111111111111,
              "#46039f"
             ],
             [
              0.2222222222222222,
              "#7201a8"
             ],
             [
              0.3333333333333333,
              "#9c179e"
             ],
             [
              0.4444444444444444,
              "#bd3786"
             ],
             [
              0.5555555555555556,
              "#d8576b"
             ],
             [
              0.6666666666666666,
              "#ed7953"
             ],
             [
              0.7777777777777778,
              "#fb9f3a"
             ],
             [
              0.8888888888888888,
              "#fdca26"
             ],
             [
              1,
              "#f0f921"
             ]
            ],
            "type": "contour"
           }
          ],
          "contourcarpet": [
           {
            "colorbar": {
             "outlinewidth": 0,
             "ticks": ""
            },
            "type": "contourcarpet"
           }
          ],
          "heatmap": [
           {
            "colorbar": {
             "outlinewidth": 0,
             "ticks": ""
            },
            "colorscale": [
             [
              0,
              "#0d0887"
             ],
             [
              0.1111111111111111,
              "#46039f"
             ],
             [
              0.2222222222222222,
              "#7201a8"
             ],
             [
              0.3333333333333333,
              "#9c179e"
             ],
             [
              0.4444444444444444,
              "#bd3786"
             ],
             [
              0.5555555555555556,
              "#d8576b"
             ],
             [
              0.6666666666666666,
              "#ed7953"
             ],
             [
              0.7777777777777778,
              "#fb9f3a"
             ],
             [
              0.8888888888888888,
              "#fdca26"
             ],
             [
              1,
              "#f0f921"
             ]
            ],
            "type": "heatmap"
           }
          ],
          "heatmapgl": [
           {
            "colorbar": {
             "outlinewidth": 0,
             "ticks": ""
            },
            "colorscale": [
             [
              0,
              "#0d0887"
             ],
             [
              0.1111111111111111,
              "#46039f"
             ],
             [
              0.2222222222222222,
              "#7201a8"
             ],
             [
              0.3333333333333333,
              "#9c179e"
             ],
             [
              0.4444444444444444,
              "#bd3786"
             ],
             [
              0.5555555555555556,
              "#d8576b"
             ],
             [
              0.6666666666666666,
              "#ed7953"
             ],
             [
              0.7777777777777778,
              "#fb9f3a"
             ],
             [
              0.8888888888888888,
              "#fdca26"
             ],
             [
              1,
              "#f0f921"
             ]
            ],
            "type": "heatmapgl"
           }
          ],
          "histogram": [
           {
            "marker": {
             "pattern": {
              "fillmode": "overlay",
              "size": 10,
              "solidity": 0.2
             }
            },
            "type": "histogram"
           }
          ],
          "histogram2d": [
           {
            "colorbar": {
             "outlinewidth": 0,
             "ticks": ""
            },
            "colorscale": [
             [
              0,
              "#0d0887"
             ],
             [
              0.1111111111111111,
              "#46039f"
             ],
             [
              0.2222222222222222,
              "#7201a8"
             ],
             [
              0.3333333333333333,
              "#9c179e"
             ],
             [
              0.4444444444444444,
              "#bd3786"
             ],
             [
              0.5555555555555556,
              "#d8576b"
             ],
             [
              0.6666666666666666,
              "#ed7953"
             ],
             [
              0.7777777777777778,
              "#fb9f3a"
             ],
             [
              0.8888888888888888,
              "#fdca26"
             ],
             [
              1,
              "#f0f921"
             ]
            ],
            "type": "histogram2d"
           }
          ],
          "histogram2dcontour": [
           {
            "colorbar": {
             "outlinewidth": 0,
             "ticks": ""
            },
            "colorscale": [
             [
              0,
              "#0d0887"
             ],
             [
              0.1111111111111111,
              "#46039f"
             ],
             [
              0.2222222222222222,
              "#7201a8"
             ],
             [
              0.3333333333333333,
              "#9c179e"
             ],
             [
              0.4444444444444444,
              "#bd3786"
             ],
             [
              0.5555555555555556,
              "#d8576b"
             ],
             [
              0.6666666666666666,
              "#ed7953"
             ],
             [
              0.7777777777777778,
              "#fb9f3a"
             ],
             [
              0.8888888888888888,
              "#fdca26"
             ],
             [
              1,
              "#f0f921"
             ]
            ],
            "type": "histogram2dcontour"
           }
          ],
          "mesh3d": [
           {
            "colorbar": {
             "outlinewidth": 0,
             "ticks": ""
            },
            "type": "mesh3d"
           }
          ],
          "parcoords": [
           {
            "line": {
             "colorbar": {
              "outlinewidth": 0,
              "ticks": ""
             }
            },
            "type": "parcoords"
           }
          ],
          "pie": [
           {
            "automargin": true,
            "type": "pie"
           }
          ],
          "scatter": [
           {
            "fillpattern": {
             "fillmode": "overlay",
             "size": 10,
             "solidity": 0.2
            },
            "type": "scatter"
           }
          ],
          "scatter3d": [
           {
            "line": {
             "colorbar": {
              "outlinewidth": 0,
              "ticks": ""
             }
            },
            "marker": {
             "colorbar": {
              "outlinewidth": 0,
              "ticks": ""
             }
            },
            "type": "scatter3d"
           }
          ],
          "scattercarpet": [
           {
            "marker": {
             "colorbar": {
              "outlinewidth": 0,
              "ticks": ""
             }
            },
            "type": "scattercarpet"
           }
          ],
          "scattergeo": [
           {
            "marker": {
             "colorbar": {
              "outlinewidth": 0,
              "ticks": ""
             }
            },
            "type": "scattergeo"
           }
          ],
          "scattergl": [
           {
            "marker": {
             "colorbar": {
              "outlinewidth": 0,
              "ticks": ""
             }
            },
            "type": "scattergl"
           }
          ],
          "scattermapbox": [
           {
            "marker": {
             "colorbar": {
              "outlinewidth": 0,
              "ticks": ""
             }
            },
            "type": "scattermapbox"
           }
          ],
          "scatterpolar": [
           {
            "marker": {
             "colorbar": {
              "outlinewidth": 0,
              "ticks": ""
             }
            },
            "type": "scatterpolar"
           }
          ],
          "scatterpolargl": [
           {
            "marker": {
             "colorbar": {
              "outlinewidth": 0,
              "ticks": ""
             }
            },
            "type": "scatterpolargl"
           }
          ],
          "scatterternary": [
           {
            "marker": {
             "colorbar": {
              "outlinewidth": 0,
              "ticks": ""
             }
            },
            "type": "scatterternary"
           }
          ],
          "surface": [
           {
            "colorbar": {
             "outlinewidth": 0,
             "ticks": ""
            },
            "colorscale": [
             [
              0,
              "#0d0887"
             ],
             [
              0.1111111111111111,
              "#46039f"
             ],
             [
              0.2222222222222222,
              "#7201a8"
             ],
             [
              0.3333333333333333,
              "#9c179e"
             ],
             [
              0.4444444444444444,
              "#bd3786"
             ],
             [
              0.5555555555555556,
              "#d8576b"
             ],
             [
              0.6666666666666666,
              "#ed7953"
             ],
             [
              0.7777777777777778,
              "#fb9f3a"
             ],
             [
              0.8888888888888888,
              "#fdca26"
             ],
             [
              1,
              "#f0f921"
             ]
            ],
            "type": "surface"
           }
          ],
          "table": [
           {
            "cells": {
             "fill": {
              "color": "#EBF0F8"
             },
             "line": {
              "color": "white"
             }
            },
            "header": {
             "fill": {
              "color": "#C8D4E3"
             },
             "line": {
              "color": "white"
             }
            },
            "type": "table"
           }
          ]
         },
         "layout": {
          "annotationdefaults": {
           "arrowcolor": "#2a3f5f",
           "arrowhead": 0,
           "arrowwidth": 1
          },
          "autotypenumbers": "strict",
          "coloraxis": {
           "colorbar": {
            "outlinewidth": 0,
            "ticks": ""
           }
          },
          "colorscale": {
           "diverging": [
            [
             0,
             "#8e0152"
            ],
            [
             0.1,
             "#c51b7d"
            ],
            [
             0.2,
             "#de77ae"
            ],
            [
             0.3,
             "#f1b6da"
            ],
            [
             0.4,
             "#fde0ef"
            ],
            [
             0.5,
             "#f7f7f7"
            ],
            [
             0.6,
             "#e6f5d0"
            ],
            [
             0.7,
             "#b8e186"
            ],
            [
             0.8,
             "#7fbc41"
            ],
            [
             0.9,
             "#4d9221"
            ],
            [
             1,
             "#276419"
            ]
           ],
           "sequential": [
            [
             0,
             "#0d0887"
            ],
            [
             0.1111111111111111,
             "#46039f"
            ],
            [
             0.2222222222222222,
             "#7201a8"
            ],
            [
             0.3333333333333333,
             "#9c179e"
            ],
            [
             0.4444444444444444,
             "#bd3786"
            ],
            [
             0.5555555555555556,
             "#d8576b"
            ],
            [
             0.6666666666666666,
             "#ed7953"
            ],
            [
             0.7777777777777778,
             "#fb9f3a"
            ],
            [
             0.8888888888888888,
             "#fdca26"
            ],
            [
             1,
             "#f0f921"
            ]
           ],
           "sequentialminus": [
            [
             0,
             "#0d0887"
            ],
            [
             0.1111111111111111,
             "#46039f"
            ],
            [
             0.2222222222222222,
             "#7201a8"
            ],
            [
             0.3333333333333333,
             "#9c179e"
            ],
            [
             0.4444444444444444,
             "#bd3786"
            ],
            [
             0.5555555555555556,
             "#d8576b"
            ],
            [
             0.6666666666666666,
             "#ed7953"
            ],
            [
             0.7777777777777778,
             "#fb9f3a"
            ],
            [
             0.8888888888888888,
             "#fdca26"
            ],
            [
             1,
             "#f0f921"
            ]
           ]
          },
          "colorway": [
           "#636efa",
           "#EF553B",
           "#00cc96",
           "#ab63fa",
           "#FFA15A",
           "#19d3f3",
           "#FF6692",
           "#B6E880",
           "#FF97FF",
           "#FECB52"
          ],
          "font": {
           "color": "#2a3f5f"
          },
          "geo": {
           "bgcolor": "white",
           "lakecolor": "white",
           "landcolor": "#E5ECF6",
           "showlakes": true,
           "showland": true,
           "subunitcolor": "white"
          },
          "hoverlabel": {
           "align": "left"
          },
          "hovermode": "closest",
          "mapbox": {
           "style": "light"
          },
          "paper_bgcolor": "white",
          "plot_bgcolor": "#E5ECF6",
          "polar": {
           "angularaxis": {
            "gridcolor": "white",
            "linecolor": "white",
            "ticks": ""
           },
           "bgcolor": "#E5ECF6",
           "radialaxis": {
            "gridcolor": "white",
            "linecolor": "white",
            "ticks": ""
           }
          },
          "scene": {
           "xaxis": {
            "backgroundcolor": "#E5ECF6",
            "gridcolor": "white",
            "gridwidth": 2,
            "linecolor": "white",
            "showbackground": true,
            "ticks": "",
            "zerolinecolor": "white"
           },
           "yaxis": {
            "backgroundcolor": "#E5ECF6",
            "gridcolor": "white",
            "gridwidth": 2,
            "linecolor": "white",
            "showbackground": true,
            "ticks": "",
            "zerolinecolor": "white"
           },
           "zaxis": {
            "backgroundcolor": "#E5ECF6",
            "gridcolor": "white",
            "gridwidth": 2,
            "linecolor": "white",
            "showbackground": true,
            "ticks": "",
            "zerolinecolor": "white"
           }
          },
          "shapedefaults": {
           "line": {
            "color": "#2a3f5f"
           }
          },
          "ternary": {
           "aaxis": {
            "gridcolor": "white",
            "linecolor": "white",
            "ticks": ""
           },
           "baxis": {
            "gridcolor": "white",
            "linecolor": "white",
            "ticks": ""
           },
           "bgcolor": "#E5ECF6",
           "caxis": {
            "gridcolor": "white",
            "linecolor": "white",
            "ticks": ""
           }
          },
          "title": {
           "x": 0.05
          },
          "xaxis": {
           "automargin": true,
           "gridcolor": "white",
           "linecolor": "white",
           "ticks": "",
           "title": {
            "standoff": 15
           },
           "zerolinecolor": "white",
           "zerolinewidth": 2
          },
          "yaxis": {
           "automargin": true,
           "gridcolor": "white",
           "linecolor": "white",
           "ticks": "",
           "title": {
            "standoff": 15
           },
           "zerolinecolor": "white",
           "zerolinewidth": 2
          }
         }
        }
       }
      },
      "text/html": [
       "<div>                            <div id=\"4f2a626c-a109-46fc-806f-df48488dbefb\" class=\"plotly-graph-div\" style=\"height:525px; width:100%;\"></div>            <script type=\"text/javascript\">                require([\"plotly\"], function(Plotly) {                    window.PLOTLYENV=window.PLOTLYENV || {};                                    if (document.getElementById(\"4f2a626c-a109-46fc-806f-df48488dbefb\")) {                    Plotly.newPlot(                        \"4f2a626c-a109-46fc-806f-df48488dbefb\",                        [{\"link\":{\"source\":[0,21,38,45,49,52,1,22,38,46,49,53,56,61,2,22,38,46,49,53,56,61,3,23,38,45,50,54,4,24,38,45,49,52,4,24,38,45,49,52,5,25,38,45,50,52,5,25,38,45,50,52,6,26,38,46,50,52,6,26,38,46,50,52,0,22,38,45,50,53,56,61,0,22,38,45,50,52,7,26,38,45,50,53,56,62,8,26,38,45,50,53,56,61,9,26,39,45,50,53,59,63,9,22,40,45,50,53,59,64,10,27,38,45,50,52,11,27,38,45,50,52,12,22,38,45,50,53,59,63,12,22,41,45,50,53,59,63,9,28,38,47,50,53,59,62,9,28,38,47,50,53,59,62,8,22,38,45,50,53,56,65,4,27,42,48,49,53,59,63,4,27,42,48,49,53,59,63,5,29,38,45,50,53,56,62,5,29,38,45,50,53,59,62,8,22,38,45,50,53,56,61,8,22,38,45,50,53,56,61,5,30,38,45,49,53,56,62,5,30,38,45,49,53,56,62,13,31,42,45,50,53,59,63,13,22,43,45,50,53,59,63,0,25,38,46,49,53,56,66,0,25,38,46,49,53,56,66,12,32,38,45,49,53,59,65,0,32,38,45,49,53,59,65,9,23,38,45,50,53,56,62,9,23,38,45,50,53,56,62,14,25,38,45,50,53,56,62,14,25,38,45,50,53,56,62,8,22,38,45,49,53,59,63,4,23,38,46,50,52,4,23,38,46,50,52,7,21,38,45,50,53,59,63,7,21,38,45,50,53,59,63,15,23,38,46,49,53,59,65,16,23,38,46,49,53,59,65,4,22,38,45,50,53,59,66,4,22,38,45,50,53,59,66,5,33,38,45,49,52,5,33,38,45,49,52,8,22,44,45,49,53,59,64,7,22,44,45,49,53,59,64,12,22,38,45,50,53,59,66,12,22,38,45,50,53,59,66,12,21,41,47,50,53,56,61,17,34,38,45,50,53,59,65,17,35,38,45,50,53,59,65,18,21,38,45,49,53,56,65,18,21,40,45,49,53,56,65,19,36,38,45,51,53,56,61,12,21,38,47,49,53,59,63,12,21,38,47,49,53,59,63,20,23,38,46,49,53,59,65,20,23,38,46,49,53,59,65,20,23,38,46,50,53,59,62,20,26,38,46,50,53,59,62,5,30,38,45,50,53,56,62,5,37,38,45,50,53,56,62],\"target\":[21,38,45,49,52,55,22,38,46,49,53,56,61,67,22,38,46,49,53,56,61,68,23,38,45,50,54,57,24,38,45,49,52,58,24,38,45,49,52,58,25,38,45,50,52,57,25,38,45,50,52,57,26,38,46,50,52,55,26,38,46,50,52,55,22,38,45,50,53,56,61,69,22,38,45,50,52,55,26,38,45,50,53,56,62,69,26,38,45,50,53,56,61,69,26,39,45,50,53,59,63,69,22,40,45,50,53,59,64,69,27,38,45,50,52,57,27,38,45,50,52,57,22,38,45,50,53,59,63,70,22,41,45,50,53,59,63,70,28,38,47,50,53,59,62,69,28,38,47,50,53,59,62,69,22,38,45,50,53,56,65,69,27,42,48,49,53,59,63,69,27,42,48,49,53,59,63,69,29,38,45,50,53,56,62,69,29,38,45,50,53,59,62,69,22,38,45,50,53,56,61,69,22,38,45,50,53,56,61,69,30,38,45,49,53,56,62,69,30,38,45,49,53,56,62,69,31,42,45,50,53,59,63,69,22,43,45,50,53,59,63,69,25,38,46,49,53,56,66,69,25,38,46,49,53,56,66,69,32,38,45,49,53,59,65,69,32,38,45,49,53,59,65,69,23,38,45,50,53,56,62,67,23,38,45,50,53,56,62,67,25,38,45,50,53,56,62,67,25,38,45,50,53,56,62,67,22,38,45,49,53,59,63,71,23,38,46,50,52,55,23,38,46,50,52,55,21,38,45,50,53,59,63,71,21,38,45,50,53,59,63,71,23,38,46,49,53,59,65,72,23,38,46,49,53,59,65,73,22,38,45,50,53,59,66,69,22,38,45,50,53,59,66,69,33,38,45,49,52,58,33,38,45,49,52,58,22,44,45,49,53,59,64,71,22,44,45,49,53,59,64,71,22,38,45,50,53,59,66,74,22,38,45,50,53,59,66,74,21,41,47,50,53,56,61,75,34,38,45,50,53,59,65,69,35,38,45,50,53,59,65,69,21,38,45,49,53,56,65,69,21,40,45,49,53,56,65,69,36,38,45,51,53,56,61,71,21,38,47,49,53,59,63,69,21,38,47,49,53,59,63,69,23,38,46,49,53,59,65,70,23,38,46,49,53,59,65,70,23,38,46,50,53,59,62,69,26,38,46,50,53,59,62,69,30,38,45,50,53,56,62,68,37,38,45,50,53,56,62,68],\"value\":[1,1,1,1,1,1,1,1,1,1,1,1,1,1,1,1,1,1,1,1,1,1,1,1,1,1,1,1,1,1,1,1,1,1,1,1,1,1,1,1,1,1,1,1,1,1,1,1,1,1,1,1,1,1,1,1,1,1,1,1,1,1,1,1,1,1,1,1,1,1,1,1,1,1,1,1,1,1,1,1,1,1,1,1,1,1,1,1,1,1,1,1,1,1,1,1,1,1,1,1,1,1,1,1,1,1,1,1,1,1,1,1,1,1,1,1,1,1,1,1,1,1,1,1,1,1,1,1,1,1,1,1,1,1,1,1,1,1,1,1,1,1,1,1,1,1,1,1,1,1,1,1,1,1,1,1,1,1,1,1,1,1,1,1,1,1,1,1,1,1,1,1,1,1,1,1,1,1,1,1,1,1,1,1,1,1,1,1,1,1,1,1,1,1,1,1,1,1,1,1,1,1,1,1,1,1,1,1,1,1,1,1,1,1,1,1,1,1,1,1,1,1,1,1,1,1,1,1,1,1,1,1,1,1,1,1,1,1,1,1,1,1,1,1,1,1,1,1,1,1,1,1,1,1,1,1,1,1,1,1,1,1,1,1,1,1,1,1,1,1,1,1,1,1,1,1,1,1,1,1,1,1,1,1,1,1,1,1,1,1,1,1,1,1,1,1,1,1,1,1,1,1,1,1,1,1,1,1,1,1,1,1,1,1,1,1,1,1,1,1,1,1,1,1,1,1,1,1,1,1,1,1,1,1,1,1,1,1,1,1,1,1,1,1,1,1,1,1,1,1,1,1,1,1,1,1,1,1,1,1,1,1,1,1,1,1,1,1,1,1,1,1,1,1,1,1,1,1,1,1,1,1,1,1,1,1,1,1,1,1,1,1,1,1,1,1,1,1,1,1,1,1,1,1,1,1,1,1,1,1,1,1,1,1,1,1,1,1,1,1,1,1,1,1,1,1,1,1,1,1,1,1,1,1,1,1,1,1,1,1,1,1,1,1,1,1,1,1,1,1,1,1,1,1,1,1,1,1,1,1,1,1,1,1,1,1,1,1,1,1,1,1,1,1,1,1,1,1,1,1,1,1,1,1,1,1,1,1,1,1,1,1,1,1,1,1,1,1,1,1,1,1,1,1,1,1,1,1,1,1,1,1,1,1,1,1,1,1,1,1,1,1,1,1,1,1,1,1,1,1]},\"node\":{\"color\":[\"rgba(222,217,255, 1)\",\"rgba(214,211,251, 1)\",\"rgba(206,205,248, 1)\",\"rgba(195,198,243, 1)\",\"rgba(187,192,240, 1)\",\"rgba(176,185,235, 1)\",\"rgba(168,179,232, 1)\",\"rgba(160,173,228, 1)\",\"rgba(150,166,223, 1)\",\"rgba(142,160,220, 1)\",\"rgba(131,153,215, 1)\",\"rgba(123,147,211, 1)\",\"rgba(115,141,206, 1)\",\"rgba(105,133,200, 1)\",\"rgba(97,127,195, 1)\",\"rgba(87,119,186, 1)\",\"rgba(81,113,180, 1)\",\"rgba(73,105,170, 1)\",\"rgba(67,99,162, 1)\",\"rgba(62,94,154, 1)\",\"rgba(57,87,144, 1)\",\"rgba(53,82,136, 1)\",\"rgba(49,76,126, 1)\",\"rgba(46,71,118, 1)\",\"rgba(43,66,111, 1)\",\"rgba(39,60,101, 1)\",\"rgba(36,56,93, 1)\",\"rgba(33,50,84, 1)\",\"rgba(30,46,77, 1)\",\"rgba(28,42,70, 1)\",\"rgba(25,37,61, 1)\",\"rgba(22,33,54, 1)\",\"rgba(20,29,46, 1)\",\"rgba(18,26,40, 1)\",\"rgba(17,23,33, 1)\",\"rgba(15,21,29, 1)\",\"rgba(14,21,25, 1)\",\"rgba(13,21,21, 1)\",\"rgba(13,22,19, 1)\",\"rgba(14,25,18, 1)\",\"rgba(15,28,18, 1)\",\"rgba(17,31,18, 1)\",\"rgba(18,35,20, 1)\",\"rgba(20,39,22, 1)\",\"rgba(22,45,24, 1)\",\"rgba(24,50,26, 1)\",\"rgba(26,56,29, 1)\",\"rgba(29,61,32, 1)\",\"rgba(31,66,34, 1)\",\"rgba(34,72,37, 1)\",\"rgba(36,77,40, 1)\",\"rgba(39,84,44, 1)\",\"rgba(42,90,46, 1)\",\"rgba(44,95,49, 1)\",\"rgba(48,102,53, 1)\",\"rgba(51,108,56, 1)\",\"rgba(55,115,60, 1)\",\"rgba(58,121,63, 1)\",\"rgba(62,127,66, 1)\",\"rgba(68,135,71, 1)\",\"rgba(74,141,75, 1)\",\"rgba(82,149,81, 1)\",\"rgba(90,156,86, 1)\",\"rgba(100,164,92, 1)\",\"rgba(109,169,97, 1)\",\"rgba(118,175,102, 1)\",\"rgba(130,182,108, 1)\",\"rgba(139,187,113, 1)\",\"rgba(151,194,120, 1)\",\"rgba(160,198,124, 1)\",\"rgba(169,203,129, 1)\",\"rgba(181,209,135, 1)\",\"rgba(189,214,140, 1)\",\"rgba(201,220,146, 1)\",\"rgba(210,225,151, 1)\",\"rgba(219,230,155, 1)\"],\"label\":[\"No Pruning (8.6%)\",\"SCI (Scalp-Coupling Index),Manual Pruning (1.4%)\",\"Manual Pruning,SCI (Scalp-Coupling Index) (1.4%)\",\"PSP (Cardiac Power Spectrum Peak),SNR Threshold,Manual Pruning (1.4%)\",\"Other Pruning Method (11.4%)\",\"SNR Threshold (14.3%)\",\"PSP (Cardiac Power Spectrum Peak),SCI (Scalp-Coupling Index),Manual Pruning (2.9%)\",\"SCI (Scalp-Coupling Index),PSP (Cardiac Power Spectrum Peak) (5.7%)\",\"PSP (Cardiac Power Spectrum Peak),SCI (Scalp-Coupling Index) (8.6%)\",\"Manual Pruning (8.6%)\",\"SNR Threshold,Manual Pruning,Other Pruning Method (1.4%)\",\"Manual Pruning,SNR Threshold,Other Pruning Method (1.4%)\",\"SCI (Scalp-Coupling Index) (11.4%)\",\"SCI (Scalp-Coupling Index),SNR Threshold (2.9%)\",\"Manual Pruning,SNR Threshold,Manual Pruning (2.9%)\",\"SNR Threshold,PSP (Cardiac Power Spectrum Peak) (1.4%)\",\"PSP (Cardiac Power Spectrum Peak),SNR Threshold (1.4%)\",\"Manual Pruning,Other Pruning Method (2.9%)\",\"PSP (Cardiac Power Spectrum Peak),SNR Threshold,Manual Pruning,Other Pruning Method (2.9%)\",\"Manual Pruning,Manual Pruning (1.4%)\",\"SNR Threshold,Other Pruning Method (5.7%)\",\"No Artifact Removal (11.4%)\",\"TDDR (25.7%)\",\"Hybrid spline wavelet (14.3%)\",\"Trial Rejection (2.9%)\",\"Targeted PCA (8.6%)\",\"Wavelet Filter (8.6%)\",\"Spline Interpolation,Wavelet Filter (5.7%)\",\"Other Removal Method (2.9%)\",\"CBSI (2.9%)\",\"Spline SG (4.3%)\",\"TDDR,Targeted PCA (1.4%)\",\"TDDR,Monotonic Interpolation (2.9%)\",\"CBSI,Spline SG (2.9%)\",\"Trial Rejection,Monotonic Interpolation,TDDR (1.4%)\",\"Monotonic Interpolation,Trial Rejection (1.4%)\",\"CBSI,TDDR (1.4%)\",\"Trial Rejection,Spline SG (1.4%)\",\"No Resampling (84.3%)\",\"2 (1.4%)\",\"1 (2.9%)\",\"3 (2.9%)\",\"4 (4.3%)\",\"8 (1.4%)\",\"5 (2.9%)\",\"BP (70.0%)\",\"LP (20.0%)\",\"No Filtering (7.1%)\",\"HP (2.9%)\",\"Other Method (37.1%)\",\"No Removal (61.4%)\",\"PCA (1.4%)\",\"Block Averaging (20.0%)\",\"GLM (78.6%)\",\"Other (7.1%)\",\"Baseline correction (8.6%)\",\"OLS    (32.9%)\",\"No Correction (7.1%)\",\"Detrending (5.7%)\",\"AR-IRLS (45.7%)\",\" (21.4%)\",\"SPM (11.4%)\",\"Consecutive Gaussian (21.4%)\",\"Canonical (17.1%)\",\"FIR (4.3%)\",\"Gamma (15.7%)\",\"Glover (8.6%)\",\"Polynomial Drift,Short Channels (7.1%)\",\"Short Channels,Polynomial Drift (4.3%)\",\"Short Channels (45.7%)\",\"PCA of the Short Channels (5.7%)\",\"Unknown Additional Regressors (8.6%)\",\"Unknown Additional Regressors,PCA of the Short Channels (1.4%)\",\"PCA of the Short Channels,Unknown Additional Regressors (1.4%)\",\"Cosine drift,PCA of the Short Channels (2.9%)\",\"Cosine drift,Short Channels (1.4%)\"],\"line\":{\"color\":\"black\",\"width\":0.5},\"pad\":15,\"thickness\":20},\"type\":\"sankey\"}],                        {\"template\":{\"data\":{\"histogram2dcontour\":[{\"type\":\"histogram2dcontour\",\"colorbar\":{\"outlinewidth\":0,\"ticks\":\"\"},\"colorscale\":[[0.0,\"#0d0887\"],[0.1111111111111111,\"#46039f\"],[0.2222222222222222,\"#7201a8\"],[0.3333333333333333,\"#9c179e\"],[0.4444444444444444,\"#bd3786\"],[0.5555555555555556,\"#d8576b\"],[0.6666666666666666,\"#ed7953\"],[0.7777777777777778,\"#fb9f3a\"],[0.8888888888888888,\"#fdca26\"],[1.0,\"#f0f921\"]]}],\"choropleth\":[{\"type\":\"choropleth\",\"colorbar\":{\"outlinewidth\":0,\"ticks\":\"\"}}],\"histogram2d\":[{\"type\":\"histogram2d\",\"colorbar\":{\"outlinewidth\":0,\"ticks\":\"\"},\"colorscale\":[[0.0,\"#0d0887\"],[0.1111111111111111,\"#46039f\"],[0.2222222222222222,\"#7201a8\"],[0.3333333333333333,\"#9c179e\"],[0.4444444444444444,\"#bd3786\"],[0.5555555555555556,\"#d8576b\"],[0.6666666666666666,\"#ed7953\"],[0.7777777777777778,\"#fb9f3a\"],[0.8888888888888888,\"#fdca26\"],[1.0,\"#f0f921\"]]}],\"heatmap\":[{\"type\":\"heatmap\",\"colorbar\":{\"outlinewidth\":0,\"ticks\":\"\"},\"colorscale\":[[0.0,\"#0d0887\"],[0.1111111111111111,\"#46039f\"],[0.2222222222222222,\"#7201a8\"],[0.3333333333333333,\"#9c179e\"],[0.4444444444444444,\"#bd3786\"],[0.5555555555555556,\"#d8576b\"],[0.6666666666666666,\"#ed7953\"],[0.7777777777777778,\"#fb9f3a\"],[0.8888888888888888,\"#fdca26\"],[1.0,\"#f0f921\"]]}],\"heatmapgl\":[{\"type\":\"heatmapgl\",\"colorbar\":{\"outlinewidth\":0,\"ticks\":\"\"},\"colorscale\":[[0.0,\"#0d0887\"],[0.1111111111111111,\"#46039f\"],[0.2222222222222222,\"#7201a8\"],[0.3333333333333333,\"#9c179e\"],[0.4444444444444444,\"#bd3786\"],[0.5555555555555556,\"#d8576b\"],[0.6666666666666666,\"#ed7953\"],[0.7777777777777778,\"#fb9f3a\"],[0.8888888888888888,\"#fdca26\"],[1.0,\"#f0f921\"]]}],\"contourcarpet\":[{\"type\":\"contourcarpet\",\"colorbar\":{\"outlinewidth\":0,\"ticks\":\"\"}}],\"contour\":[{\"type\":\"contour\",\"colorbar\":{\"outlinewidth\":0,\"ticks\":\"\"},\"colorscale\":[[0.0,\"#0d0887\"],[0.1111111111111111,\"#46039f\"],[0.2222222222222222,\"#7201a8\"],[0.3333333333333333,\"#9c179e\"],[0.4444444444444444,\"#bd3786\"],[0.5555555555555556,\"#d8576b\"],[0.6666666666666666,\"#ed7953\"],[0.7777777777777778,\"#fb9f3a\"],[0.8888888888888888,\"#fdca26\"],[1.0,\"#f0f921\"]]}],\"surface\":[{\"type\":\"surface\",\"colorbar\":{\"outlinewidth\":0,\"ticks\":\"\"},\"colorscale\":[[0.0,\"#0d0887\"],[0.1111111111111111,\"#46039f\"],[0.2222222222222222,\"#7201a8\"],[0.3333333333333333,\"#9c179e\"],[0.4444444444444444,\"#bd3786\"],[0.5555555555555556,\"#d8576b\"],[0.6666666666666666,\"#ed7953\"],[0.7777777777777778,\"#fb9f3a\"],[0.8888888888888888,\"#fdca26\"],[1.0,\"#f0f921\"]]}],\"mesh3d\":[{\"type\":\"mesh3d\",\"colorbar\":{\"outlinewidth\":0,\"ticks\":\"\"}}],\"scatter\":[{\"fillpattern\":{\"fillmode\":\"overlay\",\"size\":10,\"solidity\":0.2},\"type\":\"scatter\"}],\"parcoords\":[{\"type\":\"parcoords\",\"line\":{\"colorbar\":{\"outlinewidth\":0,\"ticks\":\"\"}}}],\"scatterpolargl\":[{\"type\":\"scatterpolargl\",\"marker\":{\"colorbar\":{\"outlinewidth\":0,\"ticks\":\"\"}}}],\"bar\":[{\"error_x\":{\"color\":\"#2a3f5f\"},\"error_y\":{\"color\":\"#2a3f5f\"},\"marker\":{\"line\":{\"color\":\"#E5ECF6\",\"width\":0.5},\"pattern\":{\"fillmode\":\"overlay\",\"size\":10,\"solidity\":0.2}},\"type\":\"bar\"}],\"scattergeo\":[{\"type\":\"scattergeo\",\"marker\":{\"colorbar\":{\"outlinewidth\":0,\"ticks\":\"\"}}}],\"scatterpolar\":[{\"type\":\"scatterpolar\",\"marker\":{\"colorbar\":{\"outlinewidth\":0,\"ticks\":\"\"}}}],\"histogram\":[{\"marker\":{\"pattern\":{\"fillmode\":\"overlay\",\"size\":10,\"solidity\":0.2}},\"type\":\"histogram\"}],\"scattergl\":[{\"type\":\"scattergl\",\"marker\":{\"colorbar\":{\"outlinewidth\":0,\"ticks\":\"\"}}}],\"scatter3d\":[{\"type\":\"scatter3d\",\"line\":{\"colorbar\":{\"outlinewidth\":0,\"ticks\":\"\"}},\"marker\":{\"colorbar\":{\"outlinewidth\":0,\"ticks\":\"\"}}}],\"scattermapbox\":[{\"type\":\"scattermapbox\",\"marker\":{\"colorbar\":{\"outlinewidth\":0,\"ticks\":\"\"}}}],\"scatterternary\":[{\"type\":\"scatterternary\",\"marker\":{\"colorbar\":{\"outlinewidth\":0,\"ticks\":\"\"}}}],\"scattercarpet\":[{\"type\":\"scattercarpet\",\"marker\":{\"colorbar\":{\"outlinewidth\":0,\"ticks\":\"\"}}}],\"carpet\":[{\"aaxis\":{\"endlinecolor\":\"#2a3f5f\",\"gridcolor\":\"white\",\"linecolor\":\"white\",\"minorgridcolor\":\"white\",\"startlinecolor\":\"#2a3f5f\"},\"baxis\":{\"endlinecolor\":\"#2a3f5f\",\"gridcolor\":\"white\",\"linecolor\":\"white\",\"minorgridcolor\":\"white\",\"startlinecolor\":\"#2a3f5f\"},\"type\":\"carpet\"}],\"table\":[{\"cells\":{\"fill\":{\"color\":\"#EBF0F8\"},\"line\":{\"color\":\"white\"}},\"header\":{\"fill\":{\"color\":\"#C8D4E3\"},\"line\":{\"color\":\"white\"}},\"type\":\"table\"}],\"barpolar\":[{\"marker\":{\"line\":{\"color\":\"#E5ECF6\",\"width\":0.5},\"pattern\":{\"fillmode\":\"overlay\",\"size\":10,\"solidity\":0.2}},\"type\":\"barpolar\"}],\"pie\":[{\"automargin\":true,\"type\":\"pie\"}]},\"layout\":{\"autotypenumbers\":\"strict\",\"colorway\":[\"#636efa\",\"#EF553B\",\"#00cc96\",\"#ab63fa\",\"#FFA15A\",\"#19d3f3\",\"#FF6692\",\"#B6E880\",\"#FF97FF\",\"#FECB52\"],\"font\":{\"color\":\"#2a3f5f\"},\"hovermode\":\"closest\",\"hoverlabel\":{\"align\":\"left\"},\"paper_bgcolor\":\"white\",\"plot_bgcolor\":\"#E5ECF6\",\"polar\":{\"bgcolor\":\"#E5ECF6\",\"angularaxis\":{\"gridcolor\":\"white\",\"linecolor\":\"white\",\"ticks\":\"\"},\"radialaxis\":{\"gridcolor\":\"white\",\"linecolor\":\"white\",\"ticks\":\"\"}},\"ternary\":{\"bgcolor\":\"#E5ECF6\",\"aaxis\":{\"gridcolor\":\"white\",\"linecolor\":\"white\",\"ticks\":\"\"},\"baxis\":{\"gridcolor\":\"white\",\"linecolor\":\"white\",\"ticks\":\"\"},\"caxis\":{\"gridcolor\":\"white\",\"linecolor\":\"white\",\"ticks\":\"\"}},\"coloraxis\":{\"colorbar\":{\"outlinewidth\":0,\"ticks\":\"\"}},\"colorscale\":{\"sequential\":[[0.0,\"#0d0887\"],[0.1111111111111111,\"#46039f\"],[0.2222222222222222,\"#7201a8\"],[0.3333333333333333,\"#9c179e\"],[0.4444444444444444,\"#bd3786\"],[0.5555555555555556,\"#d8576b\"],[0.6666666666666666,\"#ed7953\"],[0.7777777777777778,\"#fb9f3a\"],[0.8888888888888888,\"#fdca26\"],[1.0,\"#f0f921\"]],\"sequentialminus\":[[0.0,\"#0d0887\"],[0.1111111111111111,\"#46039f\"],[0.2222222222222222,\"#7201a8\"],[0.3333333333333333,\"#9c179e\"],[0.4444444444444444,\"#bd3786\"],[0.5555555555555556,\"#d8576b\"],[0.6666666666666666,\"#ed7953\"],[0.7777777777777778,\"#fb9f3a\"],[0.8888888888888888,\"#fdca26\"],[1.0,\"#f0f921\"]],\"diverging\":[[0,\"#8e0152\"],[0.1,\"#c51b7d\"],[0.2,\"#de77ae\"],[0.3,\"#f1b6da\"],[0.4,\"#fde0ef\"],[0.5,\"#f7f7f7\"],[0.6,\"#e6f5d0\"],[0.7,\"#b8e186\"],[0.8,\"#7fbc41\"],[0.9,\"#4d9221\"],[1,\"#276419\"]]},\"xaxis\":{\"gridcolor\":\"white\",\"linecolor\":\"white\",\"ticks\":\"\",\"title\":{\"standoff\":15},\"zerolinecolor\":\"white\",\"automargin\":true,\"zerolinewidth\":2},\"yaxis\":{\"gridcolor\":\"white\",\"linecolor\":\"white\",\"ticks\":\"\",\"title\":{\"standoff\":15},\"zerolinecolor\":\"white\",\"automargin\":true,\"zerolinewidth\":2},\"scene\":{\"xaxis\":{\"backgroundcolor\":\"#E5ECF6\",\"gridcolor\":\"white\",\"linecolor\":\"white\",\"showbackground\":true,\"ticks\":\"\",\"zerolinecolor\":\"white\",\"gridwidth\":2},\"yaxis\":{\"backgroundcolor\":\"#E5ECF6\",\"gridcolor\":\"white\",\"linecolor\":\"white\",\"showbackground\":true,\"ticks\":\"\",\"zerolinecolor\":\"white\",\"gridwidth\":2},\"zaxis\":{\"backgroundcolor\":\"#E5ECF6\",\"gridcolor\":\"white\",\"linecolor\":\"white\",\"showbackground\":true,\"ticks\":\"\",\"zerolinecolor\":\"white\",\"gridwidth\":2}},\"shapedefaults\":{\"line\":{\"color\":\"#2a3f5f\"}},\"annotationdefaults\":{\"arrowcolor\":\"#2a3f5f\",\"arrowhead\":0,\"arrowwidth\":1},\"geo\":{\"bgcolor\":\"white\",\"landcolor\":\"#E5ECF6\",\"subunitcolor\":\"white\",\"showland\":true,\"showlakes\":true,\"lakecolor\":\"white\"},\"title\":{\"x\":0.05},\"mapbox\":{\"style\":\"light\"}}},\"autosize\":true,\"font\":{\"size\":16},\"annotations\":[{\"font\":{\"size\":16},\"showarrow\":false,\"text\":\"Quality\\u002fPruning Method\",\"x\":0.0,\"xref\":\"paper\",\"y\":1.05,\"yref\":\"paper\"},{\"font\":{\"size\":16},\"showarrow\":false,\"text\":\"Motion Artifact Method\",\"x\":0.125,\"xref\":\"paper\",\"y\":1.05,\"yref\":\"paper\"},{\"font\":{\"size\":16},\"showarrow\":false,\"text\":\"Resampling (Hz)\",\"x\":0.25,\"xref\":\"paper\",\"y\":1.05,\"yref\":\"paper\"},{\"font\":{\"size\":16},\"showarrow\":false,\"text\":\"Filtering\",\"x\":0.375,\"xref\":\"paper\",\"y\":1.05,\"yref\":\"paper\"},{\"font\":{\"size\":16},\"showarrow\":false,\"text\":\"Physiology Preprocessing\",\"x\":0.5,\"xref\":\"paper\",\"y\":1.05,\"yref\":\"paper\"},{\"font\":{\"size\":16},\"showarrow\":false,\"text\":\"HRF Estimation\",\"x\":0.625,\"xref\":\"paper\",\"y\":1.05,\"yref\":\"paper\"},{\"font\":{\"size\":16},\"showarrow\":false,\"text\":\"Solver \\u002f Modifiers\",\"x\":0.75,\"xref\":\"paper\",\"y\":1.05,\"yref\":\"paper\"},{\"font\":{\"size\":16},\"showarrow\":false,\"text\":\"GLM HRF Regressor\",\"x\":0.875,\"xref\":\"paper\",\"y\":1.05,\"yref\":\"paper\"},{\"font\":{\"size\":16},\"showarrow\":false,\"text\":\"GLM Other Regressors\",\"x\":1.0,\"xref\":\"paper\",\"y\":1.05,\"yref\":\"paper\"}]},                        {\"responsive\": true}                    ).then(function(){\n",
       "                            \n",
       "var gd = document.getElementById('4f2a626c-a109-46fc-806f-df48488dbefb');\n",
       "var x = new MutationObserver(function (mutations, observer) {{\n",
       "        var display = window.getComputedStyle(gd).display;\n",
       "        if (!display || display === 'none') {{\n",
       "            console.log([gd, 'removed!']);\n",
       "            Plotly.purge(gd);\n",
       "            observer.disconnect();\n",
       "        }}\n",
       "}});\n",
       "\n",
       "// Listen for the removal of the full notebook cells\n",
       "var notebookContainer = gd.closest('#notebook-container');\n",
       "if (notebookContainer) {{\n",
       "    x.observe(notebookContainer, {childList: true});\n",
       "}}\n",
       "\n",
       "// Listen for the clearing of the current output cell\n",
       "var outputEl = gd.closest('.output');\n",
       "if (outputEl) {{\n",
       "    x.observe(outputEl, {childList: true});\n",
       "}}\n",
       "\n",
       "                        })                };                });            </script>        </div>"
      ]
     },
     "metadata": {},
     "output_type": "display_data"
    },
    {
     "data": {
      "text/plain": [
       "'figs/sankey_analysispipeline.html'"
      ]
     },
     "execution_count": 41,
     "metadata": {},
     "output_type": "execute_result"
    }
   ],
   "source": [
    "fig = go.Figure(data=[go.Sankey(\n",
    "    node=dict(\n",
    "        pad=15,\n",
    "        thickness=20,\n",
    "        line=dict(color='black', width=0.5),\n",
    "        label=node_labels,\n",
    "        color= node_colors  # Assign the colors to the nodes\n",
    "    ),\n",
    "    link=dict(\n",
    "        source=source,\n",
    "        target=target,\n",
    "        value=value,\n",
    "        #color= link_colors  # Assign the colors to the links\n",
    "    )\n",
    ")])\n",
    "\n",
    "fig.update_layout(\n",
    "    autosize=True,\n",
    ")\n",
    "\n",
    "## Rename column labels\n",
    "column_labels = column_list\n",
    "# remove \":\" from elements in column_labels\n",
    "column_labels = [x.replace(':', '') for x in column_labels]\n",
    "# rename \"Approach\" to \"Solver / Modifiers\"\n",
    "column_labels = [x.replace('Approach', 'HRF Estimation') for x in column_labels]\n",
    "# rename \"GLM Method\" to \"Solver / Modifiers\"\n",
    "column_labels = [x.replace('GLM Method', 'Solver / Modifiers') for x in column_labels]\n",
    "# rename \"Removal of the Global Signals during Preprocessing\" to \"Physiology Preprocessing\"\n",
    "column_labels = [x.replace('Removal of the Global Signals during Preprocessing', 'Physiology Preprocessing') for x in column_labels]\n",
    "# rename \"Resample/Downsample (Hz)\" to \"Resampling (Hz)\"\n",
    "column_labels = [x.replace('Resample/Downsample (Hz)', 'Resampling (Hz)') for x in column_labels]\n",
    "# rename \"Filtering Coding\" to \"Filtering\"\n",
    "column_labels = [x.replace('Filtering Coding', 'Filtering') for x in column_labels]\n",
    "\n",
    "# Calculate the x position for each column's label.\n",
    "# This is a rough approximation and may need to be adjusted based on the exact look of your Sankey diagram.\n",
    "x_positions = [i / (len(column_labels) - 1) for i in range(len(column_labels))]\n",
    "\n",
    "annotations = [\n",
    "    dict(\n",
    "        x=x,\n",
    "        y=1.05,  # Adjust the y-coordinate as per desired placement\n",
    "        xref='paper',\n",
    "        yref='paper',\n",
    "        text=label,\n",
    "        showarrow=False,\n",
    "        font=dict(size=16)\n",
    "    ) for x, label in zip(x_positions, column_labels)\n",
    "]\n",
    "\n",
    "# Update the layout with annotations\n",
    "fig.update_layout(\n",
    "    annotations=annotations,\n",
    "    autosize=True,\n",
    "    font=dict(size=16),  # Set global font size\n",
    ")\n",
    "\n",
    "fig.show()\n",
    "plot(fig, filename='figs/sankey_analysispipeline.html')"
   ]
  }
 ],
 "metadata": {
  "kernelspec": {
   "display_name": "base",
   "language": "python",
   "name": "python3"
  },
  "language_info": {
   "codemirror_mode": {
    "name": "ipython",
    "version": 3
   },
   "file_extension": ".py",
   "mimetype": "text/x-python",
   "name": "python",
   "nbconvert_exporter": "python",
   "pygments_lexer": "ipython3",
   "version": "3.11.7"
  },
  "orig_nbformat": 4
 },
 "nbformat": 4,
 "nbformat_minor": 2
}
